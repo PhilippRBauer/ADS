{
 "cells": [
  {
   "cell_type": "markdown",
   "source": [
    "# Validation"
   ],
   "metadata": {
    "collapsed": false
   }
  },
  {
   "cell_type": "code",
   "execution_count": 5,
   "outputs": [],
   "source": [
    "import time\n",
    "import warnings\n",
    "from datetime import datetime\n",
    "from functions import missing_value_handling, remove_multivariate_outlier, remove_univariate_outliers, uni_multi_variate_outlier, normalize, standardize, noise_filtering\n",
    "from sklearn.pipeline import Pipeline\n",
    "from sklearn.preprocessing import MinMaxScaler\n",
    "from sklearn.preprocessing import StandardScaler\n",
    "import pandas as pd\n",
    "from sklearn.model_selection import train_test_split\n",
    "from sklearn.model_selection import cross_validate\n",
    "from sklearn import preprocessing\n",
    "from sklearn.metrics import mean_squared_error\n",
    "from sklearn import metrics\n",
    "\n",
    "from sklearn.pipeline import Pipeline\n",
    "from sklearn.preprocessing import RobustScaler\n",
    "from sklearn.preprocessing import StandardScaler\n",
    "from sklearn.preprocessing import MinMaxScaler\n",
    "\n",
    "from sklearn.base import BaseEstimator\n",
    "from sklearn.dummy import DummyRegressor\n",
    "from sklearn.linear_model import LinearRegression\n",
    "from sklearn.neighbors import KNeighborsRegressor\n",
    "from sklearn.tree import DecisionTreeRegressor\n",
    "from sklearn.ensemble import ExtraTreesRegressor\n",
    "\n",
    "from matplotlib import pyplot as plt\n",
    "from sklearn.model_selection import GridSearchCV\n",
    "import json\n",
    "from sklearn.ensemble import RandomForestRegressor\n",
    "from sklearn.svm import LinearSVR\n",
    "from typing import Dict\n",
    "from sklearn.linear_model import LogisticRegression\n",
    "from sklearn.naive_bayes import GaussianNB\n",
    "#from onedal.svm import SVC\n",
    "from sklearn.ensemble import RandomForestClassifier, ExtraTreesClassifier\n",
    "from sklearn.model_selection import StratifiedKFold, cross_val_score\n",
    "from sklearn.metrics import r2_score\n",
    "from sklearn.ensemble import GradientBoostingRegressor\n",
    "from sklearn.preprocessing import OneHotEncoder\n",
    "import joblib\n",
    "\n",
    "warnings.filterwarnings('ignore')\n",
    "\n",
    "date_time = datetime.now().strftime(\"%d.%m.%Y, %H:%M:%S\")\n",
    "\n",
    "# Read CSV file to load data\n",
    "df_wine = pd.read_csv('wine_validation.csv', sep=';', index_col='Unnamed: 0')\n",
    "\n",
    "# Changing column names -> space to underscore\n",
    "df_wine.columns = df_wine.columns.str.replace(' ', '_')"
   ],
   "metadata": {
    "collapsed": false
   }
  },
  {
   "cell_type": "markdown",
   "source": [
    "# Standard Preprocessing\n",
    "\n",
    "- Missing Value Handling"
   ],
   "metadata": {
    "collapsed": false
   }
  },
  {
   "cell_type": "code",
   "execution_count": 6,
   "outputs": [],
   "source": [
    "df_wine = missing_value_handling(df_wine)"
   ],
   "metadata": {
    "collapsed": false
   }
  },
  {
   "cell_type": "code",
   "execution_count": 13,
   "outputs": [
    {
     "data": {
      "text/plain": "               wine_type  fixed_acidity  volatile_acidity  citric_acid  \\\n0             Pinot noir            5.8              0.15         0.49   \n1                 Merlot            6.6              0.25         0.32   \n2             Chardonnay            6.7              0.21         0.34   \n3                 Merlot            8.3              0.28         0.27   \n4                 Merlot            7.5              0.42         0.19   \n...                  ...            ...               ...          ...   \n3995  Cabernet Sauvignon            6.4              0.23         0.37   \n3996  Cabernet Sauvignon            7.0              0.22         0.26   \n3997              Merlot            7.5              0.26         0.30   \n3998          Chardonnay            6.3              0.43         0.32   \n3999              Merlot            6.6              0.37         0.07   \n\n      residual_sugar  magnesium  flavanoids    minerals  calcium  chlorides  \\\n0                1.1  76.729301      894.94  186.639301   109.91      0.048   \n1                5.6   4.795712     1160.95  251.875712   247.08      0.039   \n2                1.5  85.193710      789.82  304.703710   219.51      0.035   \n3               17.5  11.976525      777.86  237.586525   225.61      0.045   \n4                6.9   5.599673      785.72   95.399673    89.80      0.041   \n...              ...        ...         ...         ...      ...        ...   \n3995             7.9  92.701914     1143.32  318.791914   226.09      0.050   \n3996             9.2  94.807955      863.32  322.107955   227.30      0.027   \n3997             4.6  50.112474      831.67  360.872474   310.76      0.027   \n3998             8.8  84.805688     1300.32  328.915688   244.11      0.042   \n3999             1.4  28.038626     1190.75  129.198626   101.16      0.048   \n\n      free_sulfur_dioxide  total_sulfur_dioxide  density    pH  sulphates  \\\n0                    21.0                  98.0  0.99290  3.19       0.48   \n1                    15.0                  68.0  0.99163  2.96       0.52   \n2                    45.0                 123.0  0.98949  3.24       0.36   \n3                    48.0                 253.0  1.00014  3.02       0.56   \n4                    62.0                 150.0  0.99508  3.23       0.37   \n...                   ...                   ...      ...   ...        ...   \n3995                 60.0                 150.0  0.99488  2.86       0.49   \n3996                 37.0                 122.0  0.99228  3.06       0.34   \n3997                 29.0                  92.0  0.99085  3.15       0.38   \n3998                 18.0                 106.0  0.99172  3.28       0.33   \n3999                 58.0                 144.0  0.99220  3.17       0.38   \n\n      alcohol  quality  \n0         9.2        5  \n1        11.1        6  \n2        12.6        7  \n3         9.1        6  \n4        10.0        6  \n...       ...      ...  \n3995      9.3        6  \n3996     12.5        8  \n3997     12.0        7  \n3998     12.9        7  \n3999     10.0        5  \n\n[3961 rows x 17 columns]",
      "text/html": "<div>\n<style scoped>\n    .dataframe tbody tr th:only-of-type {\n        vertical-align: middle;\n    }\n\n    .dataframe tbody tr th {\n        vertical-align: top;\n    }\n\n    .dataframe thead th {\n        text-align: right;\n    }\n</style>\n<table border=\"1\" class=\"dataframe\">\n  <thead>\n    <tr style=\"text-align: right;\">\n      <th></th>\n      <th>wine_type</th>\n      <th>fixed_acidity</th>\n      <th>volatile_acidity</th>\n      <th>citric_acid</th>\n      <th>residual_sugar</th>\n      <th>magnesium</th>\n      <th>flavanoids</th>\n      <th>minerals</th>\n      <th>calcium</th>\n      <th>chlorides</th>\n      <th>free_sulfur_dioxide</th>\n      <th>total_sulfur_dioxide</th>\n      <th>density</th>\n      <th>pH</th>\n      <th>sulphates</th>\n      <th>alcohol</th>\n      <th>quality</th>\n    </tr>\n  </thead>\n  <tbody>\n    <tr>\n      <th>0</th>\n      <td>Pinot noir</td>\n      <td>5.8</td>\n      <td>0.15</td>\n      <td>0.49</td>\n      <td>1.1</td>\n      <td>76.729301</td>\n      <td>894.94</td>\n      <td>186.639301</td>\n      <td>109.91</td>\n      <td>0.048</td>\n      <td>21.0</td>\n      <td>98.0</td>\n      <td>0.99290</td>\n      <td>3.19</td>\n      <td>0.48</td>\n      <td>9.2</td>\n      <td>5</td>\n    </tr>\n    <tr>\n      <th>1</th>\n      <td>Merlot</td>\n      <td>6.6</td>\n      <td>0.25</td>\n      <td>0.32</td>\n      <td>5.6</td>\n      <td>4.795712</td>\n      <td>1160.95</td>\n      <td>251.875712</td>\n      <td>247.08</td>\n      <td>0.039</td>\n      <td>15.0</td>\n      <td>68.0</td>\n      <td>0.99163</td>\n      <td>2.96</td>\n      <td>0.52</td>\n      <td>11.1</td>\n      <td>6</td>\n    </tr>\n    <tr>\n      <th>2</th>\n      <td>Chardonnay</td>\n      <td>6.7</td>\n      <td>0.21</td>\n      <td>0.34</td>\n      <td>1.5</td>\n      <td>85.193710</td>\n      <td>789.82</td>\n      <td>304.703710</td>\n      <td>219.51</td>\n      <td>0.035</td>\n      <td>45.0</td>\n      <td>123.0</td>\n      <td>0.98949</td>\n      <td>3.24</td>\n      <td>0.36</td>\n      <td>12.6</td>\n      <td>7</td>\n    </tr>\n    <tr>\n      <th>3</th>\n      <td>Merlot</td>\n      <td>8.3</td>\n      <td>0.28</td>\n      <td>0.27</td>\n      <td>17.5</td>\n      <td>11.976525</td>\n      <td>777.86</td>\n      <td>237.586525</td>\n      <td>225.61</td>\n      <td>0.045</td>\n      <td>48.0</td>\n      <td>253.0</td>\n      <td>1.00014</td>\n      <td>3.02</td>\n      <td>0.56</td>\n      <td>9.1</td>\n      <td>6</td>\n    </tr>\n    <tr>\n      <th>4</th>\n      <td>Merlot</td>\n      <td>7.5</td>\n      <td>0.42</td>\n      <td>0.19</td>\n      <td>6.9</td>\n      <td>5.599673</td>\n      <td>785.72</td>\n      <td>95.399673</td>\n      <td>89.80</td>\n      <td>0.041</td>\n      <td>62.0</td>\n      <td>150.0</td>\n      <td>0.99508</td>\n      <td>3.23</td>\n      <td>0.37</td>\n      <td>10.0</td>\n      <td>6</td>\n    </tr>\n    <tr>\n      <th>...</th>\n      <td>...</td>\n      <td>...</td>\n      <td>...</td>\n      <td>...</td>\n      <td>...</td>\n      <td>...</td>\n      <td>...</td>\n      <td>...</td>\n      <td>...</td>\n      <td>...</td>\n      <td>...</td>\n      <td>...</td>\n      <td>...</td>\n      <td>...</td>\n      <td>...</td>\n      <td>...</td>\n      <td>...</td>\n    </tr>\n    <tr>\n      <th>3995</th>\n      <td>Cabernet Sauvignon</td>\n      <td>6.4</td>\n      <td>0.23</td>\n      <td>0.37</td>\n      <td>7.9</td>\n      <td>92.701914</td>\n      <td>1143.32</td>\n      <td>318.791914</td>\n      <td>226.09</td>\n      <td>0.050</td>\n      <td>60.0</td>\n      <td>150.0</td>\n      <td>0.99488</td>\n      <td>2.86</td>\n      <td>0.49</td>\n      <td>9.3</td>\n      <td>6</td>\n    </tr>\n    <tr>\n      <th>3996</th>\n      <td>Cabernet Sauvignon</td>\n      <td>7.0</td>\n      <td>0.22</td>\n      <td>0.26</td>\n      <td>9.2</td>\n      <td>94.807955</td>\n      <td>863.32</td>\n      <td>322.107955</td>\n      <td>227.30</td>\n      <td>0.027</td>\n      <td>37.0</td>\n      <td>122.0</td>\n      <td>0.99228</td>\n      <td>3.06</td>\n      <td>0.34</td>\n      <td>12.5</td>\n      <td>8</td>\n    </tr>\n    <tr>\n      <th>3997</th>\n      <td>Merlot</td>\n      <td>7.5</td>\n      <td>0.26</td>\n      <td>0.30</td>\n      <td>4.6</td>\n      <td>50.112474</td>\n      <td>831.67</td>\n      <td>360.872474</td>\n      <td>310.76</td>\n      <td>0.027</td>\n      <td>29.0</td>\n      <td>92.0</td>\n      <td>0.99085</td>\n      <td>3.15</td>\n      <td>0.38</td>\n      <td>12.0</td>\n      <td>7</td>\n    </tr>\n    <tr>\n      <th>3998</th>\n      <td>Chardonnay</td>\n      <td>6.3</td>\n      <td>0.43</td>\n      <td>0.32</td>\n      <td>8.8</td>\n      <td>84.805688</td>\n      <td>1300.32</td>\n      <td>328.915688</td>\n      <td>244.11</td>\n      <td>0.042</td>\n      <td>18.0</td>\n      <td>106.0</td>\n      <td>0.99172</td>\n      <td>3.28</td>\n      <td>0.33</td>\n      <td>12.9</td>\n      <td>7</td>\n    </tr>\n    <tr>\n      <th>3999</th>\n      <td>Merlot</td>\n      <td>6.6</td>\n      <td>0.37</td>\n      <td>0.07</td>\n      <td>1.4</td>\n      <td>28.038626</td>\n      <td>1190.75</td>\n      <td>129.198626</td>\n      <td>101.16</td>\n      <td>0.048</td>\n      <td>58.0</td>\n      <td>144.0</td>\n      <td>0.99220</td>\n      <td>3.17</td>\n      <td>0.38</td>\n      <td>10.0</td>\n      <td>5</td>\n    </tr>\n  </tbody>\n</table>\n<p>3961 rows × 17 columns</p>\n</div>"
     },
     "execution_count": 13,
     "metadata": {},
     "output_type": "execute_result"
    }
   ],
   "source": [
    "df_wine_clean = df_wine[df_wine.quality != 99]\n",
    "df_wine_clean"
   ],
   "metadata": {
    "collapsed": false
   }
  },
  {
   "cell_type": "markdown",
   "source": [
    "2. Separate Gamay and No-Gamay"
   ],
   "metadata": {
    "collapsed": false
   }
  },
  {
   "cell_type": "code",
   "execution_count": 14,
   "outputs": [],
   "source": [
    "df_wine_no_gamay = df_wine_clean[df_wine_clean[\"wine_type\"]!=\"Gamay\"].copy()\n",
    "df_wine_gamay = df_wine_clean[df_wine_clean[\"wine_type\"]==\"Gamay\"].copy()"
   ],
   "metadata": {
    "collapsed": false
   }
  },
  {
   "cell_type": "markdown",
   "source": [
    "3. OneHotEncode Wine Type for df_wine_clean, df_wine_no_gamay\n",
    "4. Drop Wine Type for df_wine_gamay"
   ],
   "metadata": {
    "collapsed": false
   }
  },
  {
   "cell_type": "code",
   "execution_count": 15,
   "outputs": [
    {
     "data": {
      "text/plain": "      fixed_acidity  volatile_acidity  citric_acid  residual_sugar  magnesium  \\\n0               5.8              0.15         0.49             1.1  76.729301   \n1               6.6              0.25         0.32             5.6   4.795712   \n2               6.7              0.21         0.34             1.5  85.193710   \n3               8.3              0.28         0.27            17.5  11.976525   \n4               7.5              0.42         0.19             6.9   5.599673   \n...             ...               ...          ...             ...        ...   \n3995            6.4              0.23         0.37             7.9  92.701914   \n3996            7.0              0.22         0.26             9.2  94.807955   \n3997            7.5              0.26         0.30             4.6  50.112474   \n3998            6.3              0.43         0.32             8.8  84.805688   \n3999            6.6              0.37         0.07             1.4  28.038626   \n\n      flavanoids    minerals  calcium  chlorides  free_sulfur_dioxide  ...  \\\n0         894.94  186.639301   109.91      0.048                 21.0  ...   \n1        1160.95  251.875712   247.08      0.039                 15.0  ...   \n2         789.82  304.703710   219.51      0.035                 45.0  ...   \n3         777.86  237.586525   225.61      0.045                 48.0  ...   \n4         785.72   95.399673    89.80      0.041                 62.0  ...   \n...          ...         ...      ...        ...                  ...  ...   \n3995     1143.32  318.791914   226.09      0.050                 60.0  ...   \n3996      863.32  322.107955   227.30      0.027                 37.0  ...   \n3997      831.67  360.872474   310.76      0.027                 29.0  ...   \n3998     1300.32  328.915688   244.11      0.042                 18.0  ...   \n3999     1190.75  129.198626   101.16      0.048                 58.0  ...   \n\n      density    pH  sulphates  alcohol  quality  Cabernet Sauvignon  \\\n0     0.99290  3.19       0.48      9.2        5                 0.0   \n1     0.99163  2.96       0.52     11.1        6                 0.0   \n2     0.98949  3.24       0.36     12.6        7                 0.0   \n3     1.00014  3.02       0.56      9.1        6                 0.0   \n4     0.99508  3.23       0.37     10.0        6                 0.0   \n...       ...   ...        ...      ...      ...                 ...   \n3995  0.99488  2.86       0.49      9.3        6                 1.0   \n3996  0.99228  3.06       0.34     12.5        8                 1.0   \n3997  0.99085  3.15       0.38     12.0        7                 0.0   \n3998  0.99172  3.28       0.33     12.9        7                 0.0   \n3999  0.99220  3.17       0.38     10.0        5                 0.0   \n\n      Chardonnay  Gamay  Merlot  Pinot noir  \n0            0.0    0.0     0.0         1.0  \n1            0.0    0.0     1.0         0.0  \n2            1.0    0.0     0.0         0.0  \n3            0.0    0.0     1.0         0.0  \n4            0.0    0.0     1.0         0.0  \n...          ...    ...     ...         ...  \n3995         0.0    0.0     0.0         0.0  \n3996         0.0    0.0     0.0         0.0  \n3997         0.0    0.0     1.0         0.0  \n3998         1.0    0.0     0.0         0.0  \n3999         0.0    0.0     1.0         0.0  \n\n[3961 rows x 21 columns]",
      "text/html": "<div>\n<style scoped>\n    .dataframe tbody tr th:only-of-type {\n        vertical-align: middle;\n    }\n\n    .dataframe tbody tr th {\n        vertical-align: top;\n    }\n\n    .dataframe thead th {\n        text-align: right;\n    }\n</style>\n<table border=\"1\" class=\"dataframe\">\n  <thead>\n    <tr style=\"text-align: right;\">\n      <th></th>\n      <th>fixed_acidity</th>\n      <th>volatile_acidity</th>\n      <th>citric_acid</th>\n      <th>residual_sugar</th>\n      <th>magnesium</th>\n      <th>flavanoids</th>\n      <th>minerals</th>\n      <th>calcium</th>\n      <th>chlorides</th>\n      <th>free_sulfur_dioxide</th>\n      <th>...</th>\n      <th>density</th>\n      <th>pH</th>\n      <th>sulphates</th>\n      <th>alcohol</th>\n      <th>quality</th>\n      <th>Cabernet Sauvignon</th>\n      <th>Chardonnay</th>\n      <th>Gamay</th>\n      <th>Merlot</th>\n      <th>Pinot noir</th>\n    </tr>\n  </thead>\n  <tbody>\n    <tr>\n      <th>0</th>\n      <td>5.8</td>\n      <td>0.15</td>\n      <td>0.49</td>\n      <td>1.1</td>\n      <td>76.729301</td>\n      <td>894.94</td>\n      <td>186.639301</td>\n      <td>109.91</td>\n      <td>0.048</td>\n      <td>21.0</td>\n      <td>...</td>\n      <td>0.99290</td>\n      <td>3.19</td>\n      <td>0.48</td>\n      <td>9.2</td>\n      <td>5</td>\n      <td>0.0</td>\n      <td>0.0</td>\n      <td>0.0</td>\n      <td>0.0</td>\n      <td>1.0</td>\n    </tr>\n    <tr>\n      <th>1</th>\n      <td>6.6</td>\n      <td>0.25</td>\n      <td>0.32</td>\n      <td>5.6</td>\n      <td>4.795712</td>\n      <td>1160.95</td>\n      <td>251.875712</td>\n      <td>247.08</td>\n      <td>0.039</td>\n      <td>15.0</td>\n      <td>...</td>\n      <td>0.99163</td>\n      <td>2.96</td>\n      <td>0.52</td>\n      <td>11.1</td>\n      <td>6</td>\n      <td>0.0</td>\n      <td>0.0</td>\n      <td>0.0</td>\n      <td>1.0</td>\n      <td>0.0</td>\n    </tr>\n    <tr>\n      <th>2</th>\n      <td>6.7</td>\n      <td>0.21</td>\n      <td>0.34</td>\n      <td>1.5</td>\n      <td>85.193710</td>\n      <td>789.82</td>\n      <td>304.703710</td>\n      <td>219.51</td>\n      <td>0.035</td>\n      <td>45.0</td>\n      <td>...</td>\n      <td>0.98949</td>\n      <td>3.24</td>\n      <td>0.36</td>\n      <td>12.6</td>\n      <td>7</td>\n      <td>0.0</td>\n      <td>1.0</td>\n      <td>0.0</td>\n      <td>0.0</td>\n      <td>0.0</td>\n    </tr>\n    <tr>\n      <th>3</th>\n      <td>8.3</td>\n      <td>0.28</td>\n      <td>0.27</td>\n      <td>17.5</td>\n      <td>11.976525</td>\n      <td>777.86</td>\n      <td>237.586525</td>\n      <td>225.61</td>\n      <td>0.045</td>\n      <td>48.0</td>\n      <td>...</td>\n      <td>1.00014</td>\n      <td>3.02</td>\n      <td>0.56</td>\n      <td>9.1</td>\n      <td>6</td>\n      <td>0.0</td>\n      <td>0.0</td>\n      <td>0.0</td>\n      <td>1.0</td>\n      <td>0.0</td>\n    </tr>\n    <tr>\n      <th>4</th>\n      <td>7.5</td>\n      <td>0.42</td>\n      <td>0.19</td>\n      <td>6.9</td>\n      <td>5.599673</td>\n      <td>785.72</td>\n      <td>95.399673</td>\n      <td>89.80</td>\n      <td>0.041</td>\n      <td>62.0</td>\n      <td>...</td>\n      <td>0.99508</td>\n      <td>3.23</td>\n      <td>0.37</td>\n      <td>10.0</td>\n      <td>6</td>\n      <td>0.0</td>\n      <td>0.0</td>\n      <td>0.0</td>\n      <td>1.0</td>\n      <td>0.0</td>\n    </tr>\n    <tr>\n      <th>...</th>\n      <td>...</td>\n      <td>...</td>\n      <td>...</td>\n      <td>...</td>\n      <td>...</td>\n      <td>...</td>\n      <td>...</td>\n      <td>...</td>\n      <td>...</td>\n      <td>...</td>\n      <td>...</td>\n      <td>...</td>\n      <td>...</td>\n      <td>...</td>\n      <td>...</td>\n      <td>...</td>\n      <td>...</td>\n      <td>...</td>\n      <td>...</td>\n      <td>...</td>\n      <td>...</td>\n    </tr>\n    <tr>\n      <th>3995</th>\n      <td>6.4</td>\n      <td>0.23</td>\n      <td>0.37</td>\n      <td>7.9</td>\n      <td>92.701914</td>\n      <td>1143.32</td>\n      <td>318.791914</td>\n      <td>226.09</td>\n      <td>0.050</td>\n      <td>60.0</td>\n      <td>...</td>\n      <td>0.99488</td>\n      <td>2.86</td>\n      <td>0.49</td>\n      <td>9.3</td>\n      <td>6</td>\n      <td>1.0</td>\n      <td>0.0</td>\n      <td>0.0</td>\n      <td>0.0</td>\n      <td>0.0</td>\n    </tr>\n    <tr>\n      <th>3996</th>\n      <td>7.0</td>\n      <td>0.22</td>\n      <td>0.26</td>\n      <td>9.2</td>\n      <td>94.807955</td>\n      <td>863.32</td>\n      <td>322.107955</td>\n      <td>227.30</td>\n      <td>0.027</td>\n      <td>37.0</td>\n      <td>...</td>\n      <td>0.99228</td>\n      <td>3.06</td>\n      <td>0.34</td>\n      <td>12.5</td>\n      <td>8</td>\n      <td>1.0</td>\n      <td>0.0</td>\n      <td>0.0</td>\n      <td>0.0</td>\n      <td>0.0</td>\n    </tr>\n    <tr>\n      <th>3997</th>\n      <td>7.5</td>\n      <td>0.26</td>\n      <td>0.30</td>\n      <td>4.6</td>\n      <td>50.112474</td>\n      <td>831.67</td>\n      <td>360.872474</td>\n      <td>310.76</td>\n      <td>0.027</td>\n      <td>29.0</td>\n      <td>...</td>\n      <td>0.99085</td>\n      <td>3.15</td>\n      <td>0.38</td>\n      <td>12.0</td>\n      <td>7</td>\n      <td>0.0</td>\n      <td>0.0</td>\n      <td>0.0</td>\n      <td>1.0</td>\n      <td>0.0</td>\n    </tr>\n    <tr>\n      <th>3998</th>\n      <td>6.3</td>\n      <td>0.43</td>\n      <td>0.32</td>\n      <td>8.8</td>\n      <td>84.805688</td>\n      <td>1300.32</td>\n      <td>328.915688</td>\n      <td>244.11</td>\n      <td>0.042</td>\n      <td>18.0</td>\n      <td>...</td>\n      <td>0.99172</td>\n      <td>3.28</td>\n      <td>0.33</td>\n      <td>12.9</td>\n      <td>7</td>\n      <td>0.0</td>\n      <td>1.0</td>\n      <td>0.0</td>\n      <td>0.0</td>\n      <td>0.0</td>\n    </tr>\n    <tr>\n      <th>3999</th>\n      <td>6.6</td>\n      <td>0.37</td>\n      <td>0.07</td>\n      <td>1.4</td>\n      <td>28.038626</td>\n      <td>1190.75</td>\n      <td>129.198626</td>\n      <td>101.16</td>\n      <td>0.048</td>\n      <td>58.0</td>\n      <td>...</td>\n      <td>0.99220</td>\n      <td>3.17</td>\n      <td>0.38</td>\n      <td>10.0</td>\n      <td>5</td>\n      <td>0.0</td>\n      <td>0.0</td>\n      <td>0.0</td>\n      <td>1.0</td>\n      <td>0.0</td>\n    </tr>\n  </tbody>\n</table>\n<p>3961 rows × 21 columns</p>\n</div>"
     },
     "execution_count": 15,
     "metadata": {},
     "output_type": "execute_result"
    }
   ],
   "source": [
    "from sklearn.preprocessing import OneHotEncoder\n",
    "\n",
    "df_wine_gamay = df_wine_gamay.copy().drop(columns=[\"wine_type\"])\n",
    "df_wine_gamay\n",
    "\n",
    "# One Hot Encoding\n",
    "wine_type_array = df_wine_no_gamay[\"wine_type\"].to_numpy()\n",
    "\n",
    "ohe = OneHotEncoder(sparse=False)\n",
    "wine_type_transformed = ohe.fit_transform(wine_type_array.reshape(-1, 1))  # 1d array -> 2d array\n",
    "df_wine_no_gamay[ohe.categories_[0]] = wine_type_transformed\n",
    "df_wine_no_gamay = df_wine_no_gamay.copy().drop(columns=[\"wine_type\"])\n",
    "#df_wine_no_gamay\n",
    "\n",
    "# OneHotEncoding df_clean\n",
    "wine_type_array = df_wine_clean[\"wine_type\"].to_numpy()\n",
    "\n",
    "ohe = OneHotEncoder(sparse=False)\n",
    "wine_type_transformed = ohe.fit_transform(wine_type_array.reshape(-1, 1))  # 1d array -> 2d array\n",
    "df_wine_clean[ohe.categories_[0]] = wine_type_transformed\n",
    "df_wine_clean = df_wine_clean.copy().drop(columns=[\"wine_type\"])\n",
    "df_wine_clean"
   ],
   "metadata": {
    "collapsed": false
   }
  },
  {
   "cell_type": "markdown",
   "source": [
    "3 standard dataframes to work with:"
   ],
   "metadata": {
    "collapsed": false
   }
  },
  {
   "cell_type": "code",
   "execution_count": 16,
   "outputs": [
    {
     "data": {
      "text/plain": "      fixed_acidity  volatile_acidity  citric_acid  residual_sugar  magnesium  \\\n9              7.70              0.28         0.39            8.90  54.450579   \n41             6.15              0.21         0.37            3.20  29.384680   \n88             7.10              0.22         0.33            2.80   1.593610   \n91             7.60              0.19         0.32           18.75  48.741901   \n108            6.60              0.22         0.37           15.40  52.194621   \n...             ...               ...          ...             ...        ...   \n3757           7.00              0.12         0.29           10.30  47.214956   \n3861           7.80              0.26         0.49            3.20  25.888285   \n3893           7.90              0.18         0.37            3.00  45.470051   \n3911           7.00              0.24         0.25            1.70  28.317335   \n3990           6.10              0.30         0.32            2.20   9.090666   \n\n      flavanoids    minerals  calcium  chlorides  free_sulfur_dioxide  \\\n9         929.44  377.690579   323.24      0.036                  8.0   \n41       1116.19  293.484680   264.10      0.021                 20.0   \n88       1149.79  124.863610   123.27      0.033                 48.0   \n91        969.51  375.291901   326.55      0.047                 32.0   \n108       932.46  225.104621   172.91      0.035                 62.0   \n...          ...         ...      ...        ...                  ...   \n3757     1482.12  182.594956   135.38      0.039                 41.0   \n3861     1301.54  347.008285   321.12      0.027                 28.0   \n3893      988.04  244.680051   199.21      0.061                 25.0   \n3911     1295.30  217.397335   189.08      0.042                 48.0   \n3990      543.61  179.460666   170.37      0.042                 41.0   \n\n      total_sulfur_dioxide  density    pH  sulphates  alcohol  quality  \n9                    117.0  0.99350  3.06       0.38     12.0        2  \n41                    80.0  0.99076  3.39       0.47     12.0        1  \n88                   153.0  0.98990  3.15       0.38     12.7        2  \n91                   193.0  1.00014  3.10       0.50      9.3        2  \n108                  153.0  0.99845  3.02       0.40      9.3        1  \n...                    ...      ...   ...        ...      ...      ...  \n3757                  98.0  0.99564  3.19       0.38      9.8        2  \n3861                  87.0  0.99190  3.03       0.32     11.3        2  \n3893                 178.0  0.99500  3.22       0.51     10.0        2  \n3911                 189.0  0.99200  3.25       0.42     11.4        2  \n3990                 142.0  0.98952  3.31       0.44     12.7        2  \n\n[116 rows x 16 columns]",
      "text/html": "<div>\n<style scoped>\n    .dataframe tbody tr th:only-of-type {\n        vertical-align: middle;\n    }\n\n    .dataframe tbody tr th {\n        vertical-align: top;\n    }\n\n    .dataframe thead th {\n        text-align: right;\n    }\n</style>\n<table border=\"1\" class=\"dataframe\">\n  <thead>\n    <tr style=\"text-align: right;\">\n      <th></th>\n      <th>fixed_acidity</th>\n      <th>volatile_acidity</th>\n      <th>citric_acid</th>\n      <th>residual_sugar</th>\n      <th>magnesium</th>\n      <th>flavanoids</th>\n      <th>minerals</th>\n      <th>calcium</th>\n      <th>chlorides</th>\n      <th>free_sulfur_dioxide</th>\n      <th>total_sulfur_dioxide</th>\n      <th>density</th>\n      <th>pH</th>\n      <th>sulphates</th>\n      <th>alcohol</th>\n      <th>quality</th>\n    </tr>\n  </thead>\n  <tbody>\n    <tr>\n      <th>9</th>\n      <td>7.70</td>\n      <td>0.28</td>\n      <td>0.39</td>\n      <td>8.90</td>\n      <td>54.450579</td>\n      <td>929.44</td>\n      <td>377.690579</td>\n      <td>323.24</td>\n      <td>0.036</td>\n      <td>8.0</td>\n      <td>117.0</td>\n      <td>0.99350</td>\n      <td>3.06</td>\n      <td>0.38</td>\n      <td>12.0</td>\n      <td>2</td>\n    </tr>\n    <tr>\n      <th>41</th>\n      <td>6.15</td>\n      <td>0.21</td>\n      <td>0.37</td>\n      <td>3.20</td>\n      <td>29.384680</td>\n      <td>1116.19</td>\n      <td>293.484680</td>\n      <td>264.10</td>\n      <td>0.021</td>\n      <td>20.0</td>\n      <td>80.0</td>\n      <td>0.99076</td>\n      <td>3.39</td>\n      <td>0.47</td>\n      <td>12.0</td>\n      <td>1</td>\n    </tr>\n    <tr>\n      <th>88</th>\n      <td>7.10</td>\n      <td>0.22</td>\n      <td>0.33</td>\n      <td>2.80</td>\n      <td>1.593610</td>\n      <td>1149.79</td>\n      <td>124.863610</td>\n      <td>123.27</td>\n      <td>0.033</td>\n      <td>48.0</td>\n      <td>153.0</td>\n      <td>0.98990</td>\n      <td>3.15</td>\n      <td>0.38</td>\n      <td>12.7</td>\n      <td>2</td>\n    </tr>\n    <tr>\n      <th>91</th>\n      <td>7.60</td>\n      <td>0.19</td>\n      <td>0.32</td>\n      <td>18.75</td>\n      <td>48.741901</td>\n      <td>969.51</td>\n      <td>375.291901</td>\n      <td>326.55</td>\n      <td>0.047</td>\n      <td>32.0</td>\n      <td>193.0</td>\n      <td>1.00014</td>\n      <td>3.10</td>\n      <td>0.50</td>\n      <td>9.3</td>\n      <td>2</td>\n    </tr>\n    <tr>\n      <th>108</th>\n      <td>6.60</td>\n      <td>0.22</td>\n      <td>0.37</td>\n      <td>15.40</td>\n      <td>52.194621</td>\n      <td>932.46</td>\n      <td>225.104621</td>\n      <td>172.91</td>\n      <td>0.035</td>\n      <td>62.0</td>\n      <td>153.0</td>\n      <td>0.99845</td>\n      <td>3.02</td>\n      <td>0.40</td>\n      <td>9.3</td>\n      <td>1</td>\n    </tr>\n    <tr>\n      <th>...</th>\n      <td>...</td>\n      <td>...</td>\n      <td>...</td>\n      <td>...</td>\n      <td>...</td>\n      <td>...</td>\n      <td>...</td>\n      <td>...</td>\n      <td>...</td>\n      <td>...</td>\n      <td>...</td>\n      <td>...</td>\n      <td>...</td>\n      <td>...</td>\n      <td>...</td>\n      <td>...</td>\n    </tr>\n    <tr>\n      <th>3757</th>\n      <td>7.00</td>\n      <td>0.12</td>\n      <td>0.29</td>\n      <td>10.30</td>\n      <td>47.214956</td>\n      <td>1482.12</td>\n      <td>182.594956</td>\n      <td>135.38</td>\n      <td>0.039</td>\n      <td>41.0</td>\n      <td>98.0</td>\n      <td>0.99564</td>\n      <td>3.19</td>\n      <td>0.38</td>\n      <td>9.8</td>\n      <td>2</td>\n    </tr>\n    <tr>\n      <th>3861</th>\n      <td>7.80</td>\n      <td>0.26</td>\n      <td>0.49</td>\n      <td>3.20</td>\n      <td>25.888285</td>\n      <td>1301.54</td>\n      <td>347.008285</td>\n      <td>321.12</td>\n      <td>0.027</td>\n      <td>28.0</td>\n      <td>87.0</td>\n      <td>0.99190</td>\n      <td>3.03</td>\n      <td>0.32</td>\n      <td>11.3</td>\n      <td>2</td>\n    </tr>\n    <tr>\n      <th>3893</th>\n      <td>7.90</td>\n      <td>0.18</td>\n      <td>0.37</td>\n      <td>3.00</td>\n      <td>45.470051</td>\n      <td>988.04</td>\n      <td>244.680051</td>\n      <td>199.21</td>\n      <td>0.061</td>\n      <td>25.0</td>\n      <td>178.0</td>\n      <td>0.99500</td>\n      <td>3.22</td>\n      <td>0.51</td>\n      <td>10.0</td>\n      <td>2</td>\n    </tr>\n    <tr>\n      <th>3911</th>\n      <td>7.00</td>\n      <td>0.24</td>\n      <td>0.25</td>\n      <td>1.70</td>\n      <td>28.317335</td>\n      <td>1295.30</td>\n      <td>217.397335</td>\n      <td>189.08</td>\n      <td>0.042</td>\n      <td>48.0</td>\n      <td>189.0</td>\n      <td>0.99200</td>\n      <td>3.25</td>\n      <td>0.42</td>\n      <td>11.4</td>\n      <td>2</td>\n    </tr>\n    <tr>\n      <th>3990</th>\n      <td>6.10</td>\n      <td>0.30</td>\n      <td>0.32</td>\n      <td>2.20</td>\n      <td>9.090666</td>\n      <td>543.61</td>\n      <td>179.460666</td>\n      <td>170.37</td>\n      <td>0.042</td>\n      <td>41.0</td>\n      <td>142.0</td>\n      <td>0.98952</td>\n      <td>3.31</td>\n      <td>0.44</td>\n      <td>12.7</td>\n      <td>2</td>\n    </tr>\n  </tbody>\n</table>\n<p>116 rows × 16 columns</p>\n</div>"
     },
     "execution_count": 16,
     "metadata": {},
     "output_type": "execute_result"
    }
   ],
   "source": [
    "df_wine_clean\n",
    "df_wine_no_gamay\n",
    "df_wine_gamay"
   ],
   "metadata": {
    "collapsed": false
   }
  },
  {
   "cell_type": "markdown",
   "source": [
    "### Use model"
   ],
   "metadata": {
    "collapsed": false
   }
  },
  {
   "cell_type": "code",
   "execution_count": null,
   "outputs": [],
   "source": [
    "# Test split\n",
    "X = df_wine_clean.drop('quality', axis='columns')\n",
    "y = df_wine_clean['quality']\n",
    "# split off some data for testing\n",
    "X_train, X_test, y_train, y_test = train_test_split(X, y, test_size=1.0)"
   ],
   "metadata": {
    "collapsed": false
   }
  },
  {
   "cell_type": "code",
   "execution_count": null,
   "outputs": [],
   "source": [
    "# loaded_model = joblib.load('finalized_model_gamay.sav')\n",
    "loaded_model = joblib.load('finalized_model_no_gamay.sav')\n",
    "result = loaded_model.score(X_test, y_test)\n",
    "print(result)"
   ],
   "metadata": {
    "collapsed": false
   }
  }
 ],
 "metadata": {
  "kernelspec": {
   "display_name": "Python 3",
   "language": "python",
   "name": "python3"
  },
  "language_info": {
   "codemirror_mode": {
    "name": "ipython",
    "version": 2
   },
   "file_extension": ".py",
   "mimetype": "text/x-python",
   "name": "python",
   "nbconvert_exporter": "python",
   "pygments_lexer": "ipython2",
   "version": "2.7.6"
  }
 },
 "nbformat": 4,
 "nbformat_minor": 0
}
