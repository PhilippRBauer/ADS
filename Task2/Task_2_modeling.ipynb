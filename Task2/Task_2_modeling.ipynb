{
 "cells": [
  {
   "cell_type": "markdown",
   "source": [
    "# Task 2 : Data Modeling\n",
    "Based on the EDA from Task 1, we used the knowledge gained by our findings in the Exploration task to model our baseline model with minimal preprocessing using the wine dataset, provided in the first task. Afterwards, based on the scores we gathered, we preprocessed the data set by identifying the data quality issues and handling them.\n",
    "- Feature und Instance Selection?\n",
    "We then went on to define different pipelines with three different dataframes where we examined three different analysis approaches (univariate, multivariate and a combination of both) considering outliers and noise.\n",
    "\n",
    "## To decide and evaluating our different model options:\n",
    "  - Implementation of GridSearchCV, which should consider:\n",
    "    - Function to log our results in a JSON file, where:\n",
    "        - preprocesssing steps were conducted\n",
    "        - Hyper-Parameters of the preprocessing methods/ algorithms are included\n",
    "        - Our algorithm that is to be applied is modeled\n",
    "        - and the Hyper-Parameters of the modeling algorithm\n",
    "    - Visualization of our results\n",
    "\n",
    "\n",
    "In our case we first started experimenting with classification, but we were not able to get over 62% and the split data set to help us predict which type of wine we have was not functioning the way we wanted.\n",
    "We thought about the characteristics of the data set again and decided that it was more plausible to explain which input variables are the most significant for the influence of the output variable.\n",
    "\n",
    "Also, here we need to take into account that our dataset can be quantified or measured numerically, and therefore it has quantitative features/ continuous variables.\n",
    "\n",
    "Regression models are  well-suited for predicting continuous variables, whereas classification models are better suited for predicting categorical variables. Additionally, having a large number of observations (4000 rows) and a small number of features (16+1 label) makes it a good choice as it allows for a sufficient amount of data to train the model while still allowing for easy interpretability and understand of the model's predictions. Additionally, the fact that the data is numerical in nature, with a small number of outliers and missing values, makes it a good candidate for regression."
   ],
   "metadata": {
    "collapsed": false
   }
  },
  {
   "cell_type": "markdown",
   "source": [
    "# Table of Content\n",
    "\n",
    "1. [Import and Data Loading](#import-and-data-loading),\n",
    "2. [Standard Pre-Processing](#standard-pre-processing),\n",
    "    2.1 [MissingValues](#missing-values),\n",
    "3. [Baseline Regression Models](#baseline-regression-models),\n",
    "    3.1 [Classification Models](#classification-models),\n",
    "    3.2 [Regression Models](#regression-models),\n",
    "4. [Preprocessing](#preprocessing),\n",
    "    4.1 [Separate](#conclusion-missing-values),\n",
    "5. [Definition Pipelines](#definition-pipelines),\n",
    "6. [Reading JSON preprocessing parameters, models and preprocessing](#reading-json-preprocessing-parameters-models-and-preprocessing),\n",
    "    6.1 [Outliers without Gamay](#outliers-without-gamay),\n",
    "7. [Best R^2 and MSE: RandomForestRegressor](#best-r2-and-mse:-randomforestregressor)\n",
    "8. [RandomizedSearchCV](#randomizedsearchcv)"
   ],
   "metadata": {
    "collapsed": false
   }
  },
  {
   "cell_type": "code",
   "execution_count": 40,
   "metadata": {
    "collapsed": true
   },
   "outputs": [],
   "source": [
    "import time\n",
    "import warnings\n",
    "from datetime import datetime\n",
    "from functions import missing_value_handling, remove_multivariate_outlier, remove_univariate_outliers, uni_multi_variate_outlier, normalize, standardize, noise_filtering\n",
    "from sklearn.pipeline import Pipeline\n",
    "from sklearn.preprocessing import MinMaxScaler\n",
    "from sklearn.preprocessing import StandardScaler\n",
    "import pandas as pd\n",
    "import numpy as np\n",
    "from sklearn.model_selection import train_test_split\n",
    "from sklearn.model_selection import cross_validate\n",
    "from sklearn.model_selection import RandomizedSearchCV\n",
    "from sklearn import preprocessing\n",
    "from sklearn.metrics import mean_squared_error\n",
    "from sklearn import metrics\n",
    "from sklearn.metrics import mean_absolute_error, mean_absolute_percentage_error\n",
    "from sklearn.pipeline import Pipeline\n",
    "from sklearn.preprocessing import RobustScaler\n",
    "from sklearn.preprocessing import StandardScaler\n",
    "from sklearn.preprocessing import MinMaxScaler\n",
    "\n",
    "from sklearn.base import BaseEstimator\n",
    "from sklearn.dummy import DummyRegressor\n",
    "from sklearn.linear_model import LinearRegression\n",
    "from sklearn.neighbors import KNeighborsRegressor\n",
    "from sklearn.tree import DecisionTreeRegressor\n",
    "from sklearn.ensemble import ExtraTreesRegressor\n",
    "\n",
    "from matplotlib import pyplot as plt\n",
    "from sklearn.model_selection import GridSearchCV\n",
    "import json\n",
    "from sklearn.ensemble import RandomForestRegressor\n",
    "from sklearn.svm import LinearSVR\n",
    "from typing import Dict\n",
    "from sklearn.linear_model import LogisticRegression\n",
    "from sklearn.naive_bayes import GaussianNB\n",
    "from onedal.svm import SVC\n",
    "from sklearn.ensemble import RandomForestClassifier, ExtraTreesClassifier\n",
    "from sklearn.model_selection import StratifiedKFold, cross_val_score\n",
    "from sklearn.metrics import r2_score\n",
    "from sklearn.ensemble import GradientBoostingRegressor\n",
    "from sklearn.preprocessing import OneHotEncoder\n",
    "import joblib\n",
    "warnings.filterwarnings('ignore')\n",
    "\n",
    "date_time = datetime.now().strftime(\"%d.%m.%Y, %H:%M:%S\")"
   ]
  },
  {
   "cell_type": "markdown",
   "source": [
    "Loading data and standard preprocessing"
   ],
   "metadata": {
    "collapsed": false
   }
  },
  {
   "cell_type": "code",
   "execution_count": null,
   "outputs": [],
   "source": [
    "# Read CSV file to load data\n",
    "df_wine = pd.read_csv('wine_training.csv', sep=';', index_col='Unnamed: 0')\n",
    "\n",
    "# Changing column names -> space to underscore\n",
    "df_wine.columns = df_wine.columns.str.replace(' ', '_')"
   ],
   "metadata": {
    "collapsed": false
   }
  },
  {
   "cell_type": "markdown",
   "source": [
    "# Standard Preprocessing\n",
    "\n",
    "- Missing Value Handling"
   ],
   "metadata": {
    "collapsed": false
   }
  },
  {
   "cell_type": "code",
   "execution_count": 41,
   "outputs": [],
   "source": [
    "df_wine = missing_value_handling(df_wine)"
   ],
   "metadata": {
    "collapsed": false
   }
  },
  {
   "cell_type": "markdown",
   "source": [
    "# Baseline Regression Models\n",
    "\n",
    "For diffeerent regressions and classification\n",
    "\n",
    "Split Train Test:"
   ],
   "metadata": {
    "collapsed": false
   }
  },
  {
   "cell_type": "code",
   "execution_count": 42,
   "outputs": [],
   "source": [
    "X = df_wine.drop(['wine_type', 'quality'], axis = 1)\n",
    "y = df_wine['quality']\n",
    "\n",
    "X_train_base, X_test_base, y_train_base, y_test_base = train_test_split(X, y, test_size=.25, random_state=5)"
   ],
   "metadata": {
    "collapsed": false
   }
  },
  {
   "cell_type": "markdown",
   "source": [
    "## Abandoned approach: Classification"
   ],
   "metadata": {
    "collapsed": false
   }
  },
  {
   "cell_type": "code",
   "execution_count": 43,
   "outputs": [
    {
     "name": "stdout",
     "output_type": "stream",
     "text": [
      "Pipeline:\n",
      "   CrossValMeans  CrossValerrors               Algorithm\n",
      "0       0.434774        0.018629           LogRegression\n",
      "1       0.608928        0.019456  RandomForestClassifier\n",
      "2       0.623605        0.020252    ExtraTreesClassifier\n",
      "3       0.437438        0.001075                     SVC\n",
      "4       0.456781        0.030462              GaussianNB\n"
     ]
    }
   ],
   "source": [
    "from typing import Dict\n",
    "from sklearn.linear_model import LogisticRegression\n",
    "from sklearn.naive_bayes import GaussianNB\n",
    "from onedal.svm import SVC\n",
    "from sklearn.ensemble import RandomForestClassifier, ExtraTreesClassifier\n",
    "from sklearn.model_selection import StratifiedKFold, cross_val_score\n",
    "\n",
    "classification_models = [LogisticRegression(),RandomForestClassifier(),ExtraTreesClassifier(),SVC(C=1, kernel='rbf'),GaussianNB()]\n",
    "\n",
    "\n",
    "kfold = StratifiedKFold(n_splits=10)\n",
    "\n",
    "# Modeling step Test differents algorithms\n",
    "\n",
    "\n",
    "results = []\n",
    "for model in classification_models:\n",
    "    results.append(cross_val_score(model, X_train_base, y = y_train_base, scoring = \"accuracy\", cv = kfold, n_jobs=4))\n",
    "\n",
    "cv_means = []\n",
    "cv_std = []\n",
    "\n",
    "for cv_result in results:\n",
    "    cv_means.append(cv_result.mean())\n",
    "    cv_std.append(cv_result.std())\n",
    "\n",
    "cv_res = pd.DataFrame({\"CrossValMeans\":cv_means,\"CrossValerrors\": cv_std,\"Algorithm\":['LogRegression','RandomForestClassifier','ExtraTreesClassifier','SVC','GaussianNB']})\n",
    "print(\"Pipeline:\")\n",
    "\n",
    "print(cv_res)"
   ],
   "metadata": {
    "collapsed": false
   }
  },
  {
   "cell_type": "markdown",
   "source": [
    "## Pursued approach: Regression"
   ],
   "metadata": {
    "collapsed": false
   }
  },
  {
   "cell_type": "code",
   "execution_count": 44,
   "outputs": [
    {
     "name": "stdout",
     "output_type": "stream",
     "text": [
      "Regularization parameter: LinearRegression()\n",
      "Mean squared error: 113.88239797806641\n",
      "R-squared: -0.00481638430081599\n",
      "Regularization parameter: LinearSVR(random_state=42)\n",
      "Mean squared error: 113.36805323569745\n",
      "R-squared: -0.0002781761713135378\n",
      "Regularization parameter: KNeighborsRegressor()\n",
      "Mean squared error: 127.88904904904905\n",
      "R-squared: -0.12840100084549566\n",
      "Regularization parameter: RandomForestRegressor(random_state=42)\n",
      "Mean squared error: 122.76703273273272\n",
      "R-squared: -0.08320801223032803\n",
      "Regularization parameter: GradientBoostingRegressor(random_state=42)\n",
      "Mean squared error: 119.88500738123382\n",
      "R-squared: -0.05777909305956941\n",
      "Regularization parameter: DecisionTreeRegressor(random_state=42)\n",
      "Mean squared error: 264.07107107107106\n",
      "R-squared: -1.3299732315364676\n"
     ]
    }
   ],
   "source": [
    "regression_models = [LinearRegression(),LinearSVR(random_state = 42),KNeighborsRegressor(),RandomForestRegressor(random_state = 42), GradientBoostingRegressor(random_state = 42),DecisionTreeRegressor(random_state = 42)]\n",
    "\n",
    "def baseline_regression_model(reg_models, X_train, X_test, y_train, y_test):\n",
    "\n",
    "    # Create an empty list to store the models\n",
    "    models = []\n",
    "\n",
    "    for reg in reg_models:\n",
    "        reg.fit(X_train, y_train)\n",
    "        # Append the model to the list\n",
    "        models.append(reg)\n",
    "        # Predict on the training data\n",
    "        y_pred = reg.predict(X_test)\n",
    "        #print(len(y_pred))\n",
    "        #print(len(y_pred))\n",
    "        # Calculate the mean squared error and R-squared\n",
    "        mse = mean_squared_error(y_test, y_pred)\n",
    "        r2 = r2_score(y_test, y_pred)\n",
    "        # Print the results\n",
    "        print(\"Regularization parameter:\", reg)\n",
    "        print(\"Mean squared error:\", mse)\n",
    "        print(\"R-squared:\", r2)\n",
    "\n",
    "baseline_regression_model(regression_models, X_train_base, X_test_base, y_train_base, y_test_base)"
   ],
   "metadata": {
    "collapsed": false
   }
  },
  {
   "cell_type": "markdown",
   "source": [],
   "metadata": {
    "collapsed": false
   }
  },
  {
   "cell_type": "markdown",
   "source": [
    "# Further preprocessing\n",
    "\n",
    "Missing Values are already handled\n",
    "\n",
    "1. Remove 99 quality values (skewing predictions)"
   ],
   "metadata": {
    "collapsed": false
   }
  },
  {
   "cell_type": "code",
   "execution_count": 45,
   "outputs": [
    {
     "data": {
      "text/plain": "               wine_type  fixed_acidity  volatile_acidity  citric_acid  \\\n0             Pinot noir            5.8              0.15         0.49   \n1                 Merlot            6.6              0.25         0.32   \n2             Chardonnay            6.7              0.21         0.34   \n3                 Merlot            8.3              0.28         0.27   \n4                 Merlot            7.5              0.42         0.19   \n...                  ...            ...               ...          ...   \n3995  Cabernet Sauvignon            6.4              0.23         0.37   \n3996  Cabernet Sauvignon            7.0              0.22         0.26   \n3997              Merlot            7.5              0.26         0.30   \n3998          Chardonnay            6.3              0.43         0.32   \n3999              Merlot            6.6              0.37         0.07   \n\n      residual_sugar  magnesium  flavanoids    minerals  calcium  chlorides  \\\n0                1.1  76.729301      894.94  186.639301   109.91      0.048   \n1                5.6   4.795712     1160.95  251.875712   247.08      0.039   \n2                1.5  85.193710      789.82  304.703710   219.51      0.035   \n3               17.5  11.976525      777.86  237.586525   225.61      0.045   \n4                6.9   5.599673      785.72   95.399673    89.80      0.041   \n...              ...        ...         ...         ...      ...        ...   \n3995             7.9  92.701914     1143.32  318.791914   226.09      0.050   \n3996             9.2  94.807955      863.32  322.107955   227.30      0.027   \n3997             4.6  50.112474      831.67  360.872474   310.76      0.027   \n3998             8.8  84.805688     1300.32  328.915688   244.11      0.042   \n3999             1.4  28.038626     1190.75  129.198626   101.16      0.048   \n\n      free_sulfur_dioxide  total_sulfur_dioxide  density    pH  sulphates  \\\n0                    21.0                  98.0  0.99290  3.19       0.48   \n1                    15.0                  68.0  0.99163  2.96       0.52   \n2                    45.0                 123.0  0.98949  3.24       0.36   \n3                    48.0                 253.0  1.00014  3.02       0.56   \n4                    62.0                 150.0  0.99508  3.23       0.37   \n...                   ...                   ...      ...   ...        ...   \n3995                 60.0                 150.0  0.99488  2.86       0.49   \n3996                 37.0                 122.0  0.99228  3.06       0.34   \n3997                 29.0                  92.0  0.99085  3.15       0.38   \n3998                 18.0                 106.0  0.99172  3.28       0.33   \n3999                 58.0                 144.0  0.99220  3.17       0.38   \n\n      alcohol  quality  \n0         9.2        5  \n1        11.1        6  \n2        12.6        7  \n3         9.1        6  \n4        10.0        6  \n...       ...      ...  \n3995      9.3        6  \n3996     12.5        8  \n3997     12.0        7  \n3998     12.9        7  \n3999     10.0        5  \n\n[3961 rows x 17 columns]",
      "text/html": "<div>\n<style scoped>\n    .dataframe tbody tr th:only-of-type {\n        vertical-align: middle;\n    }\n\n    .dataframe tbody tr th {\n        vertical-align: top;\n    }\n\n    .dataframe thead th {\n        text-align: right;\n    }\n</style>\n<table border=\"1\" class=\"dataframe\">\n  <thead>\n    <tr style=\"text-align: right;\">\n      <th></th>\n      <th>wine_type</th>\n      <th>fixed_acidity</th>\n      <th>volatile_acidity</th>\n      <th>citric_acid</th>\n      <th>residual_sugar</th>\n      <th>magnesium</th>\n      <th>flavanoids</th>\n      <th>minerals</th>\n      <th>calcium</th>\n      <th>chlorides</th>\n      <th>free_sulfur_dioxide</th>\n      <th>total_sulfur_dioxide</th>\n      <th>density</th>\n      <th>pH</th>\n      <th>sulphates</th>\n      <th>alcohol</th>\n      <th>quality</th>\n    </tr>\n  </thead>\n  <tbody>\n    <tr>\n      <th>0</th>\n      <td>Pinot noir</td>\n      <td>5.8</td>\n      <td>0.15</td>\n      <td>0.49</td>\n      <td>1.1</td>\n      <td>76.729301</td>\n      <td>894.94</td>\n      <td>186.639301</td>\n      <td>109.91</td>\n      <td>0.048</td>\n      <td>21.0</td>\n      <td>98.0</td>\n      <td>0.99290</td>\n      <td>3.19</td>\n      <td>0.48</td>\n      <td>9.2</td>\n      <td>5</td>\n    </tr>\n    <tr>\n      <th>1</th>\n      <td>Merlot</td>\n      <td>6.6</td>\n      <td>0.25</td>\n      <td>0.32</td>\n      <td>5.6</td>\n      <td>4.795712</td>\n      <td>1160.95</td>\n      <td>251.875712</td>\n      <td>247.08</td>\n      <td>0.039</td>\n      <td>15.0</td>\n      <td>68.0</td>\n      <td>0.99163</td>\n      <td>2.96</td>\n      <td>0.52</td>\n      <td>11.1</td>\n      <td>6</td>\n    </tr>\n    <tr>\n      <th>2</th>\n      <td>Chardonnay</td>\n      <td>6.7</td>\n      <td>0.21</td>\n      <td>0.34</td>\n      <td>1.5</td>\n      <td>85.193710</td>\n      <td>789.82</td>\n      <td>304.703710</td>\n      <td>219.51</td>\n      <td>0.035</td>\n      <td>45.0</td>\n      <td>123.0</td>\n      <td>0.98949</td>\n      <td>3.24</td>\n      <td>0.36</td>\n      <td>12.6</td>\n      <td>7</td>\n    </tr>\n    <tr>\n      <th>3</th>\n      <td>Merlot</td>\n      <td>8.3</td>\n      <td>0.28</td>\n      <td>0.27</td>\n      <td>17.5</td>\n      <td>11.976525</td>\n      <td>777.86</td>\n      <td>237.586525</td>\n      <td>225.61</td>\n      <td>0.045</td>\n      <td>48.0</td>\n      <td>253.0</td>\n      <td>1.00014</td>\n      <td>3.02</td>\n      <td>0.56</td>\n      <td>9.1</td>\n      <td>6</td>\n    </tr>\n    <tr>\n      <th>4</th>\n      <td>Merlot</td>\n      <td>7.5</td>\n      <td>0.42</td>\n      <td>0.19</td>\n      <td>6.9</td>\n      <td>5.599673</td>\n      <td>785.72</td>\n      <td>95.399673</td>\n      <td>89.80</td>\n      <td>0.041</td>\n      <td>62.0</td>\n      <td>150.0</td>\n      <td>0.99508</td>\n      <td>3.23</td>\n      <td>0.37</td>\n      <td>10.0</td>\n      <td>6</td>\n    </tr>\n    <tr>\n      <th>...</th>\n      <td>...</td>\n      <td>...</td>\n      <td>...</td>\n      <td>...</td>\n      <td>...</td>\n      <td>...</td>\n      <td>...</td>\n      <td>...</td>\n      <td>...</td>\n      <td>...</td>\n      <td>...</td>\n      <td>...</td>\n      <td>...</td>\n      <td>...</td>\n      <td>...</td>\n      <td>...</td>\n      <td>...</td>\n    </tr>\n    <tr>\n      <th>3995</th>\n      <td>Cabernet Sauvignon</td>\n      <td>6.4</td>\n      <td>0.23</td>\n      <td>0.37</td>\n      <td>7.9</td>\n      <td>92.701914</td>\n      <td>1143.32</td>\n      <td>318.791914</td>\n      <td>226.09</td>\n      <td>0.050</td>\n      <td>60.0</td>\n      <td>150.0</td>\n      <td>0.99488</td>\n      <td>2.86</td>\n      <td>0.49</td>\n      <td>9.3</td>\n      <td>6</td>\n    </tr>\n    <tr>\n      <th>3996</th>\n      <td>Cabernet Sauvignon</td>\n      <td>7.0</td>\n      <td>0.22</td>\n      <td>0.26</td>\n      <td>9.2</td>\n      <td>94.807955</td>\n      <td>863.32</td>\n      <td>322.107955</td>\n      <td>227.30</td>\n      <td>0.027</td>\n      <td>37.0</td>\n      <td>122.0</td>\n      <td>0.99228</td>\n      <td>3.06</td>\n      <td>0.34</td>\n      <td>12.5</td>\n      <td>8</td>\n    </tr>\n    <tr>\n      <th>3997</th>\n      <td>Merlot</td>\n      <td>7.5</td>\n      <td>0.26</td>\n      <td>0.30</td>\n      <td>4.6</td>\n      <td>50.112474</td>\n      <td>831.67</td>\n      <td>360.872474</td>\n      <td>310.76</td>\n      <td>0.027</td>\n      <td>29.0</td>\n      <td>92.0</td>\n      <td>0.99085</td>\n      <td>3.15</td>\n      <td>0.38</td>\n      <td>12.0</td>\n      <td>7</td>\n    </tr>\n    <tr>\n      <th>3998</th>\n      <td>Chardonnay</td>\n      <td>6.3</td>\n      <td>0.43</td>\n      <td>0.32</td>\n      <td>8.8</td>\n      <td>84.805688</td>\n      <td>1300.32</td>\n      <td>328.915688</td>\n      <td>244.11</td>\n      <td>0.042</td>\n      <td>18.0</td>\n      <td>106.0</td>\n      <td>0.99172</td>\n      <td>3.28</td>\n      <td>0.33</td>\n      <td>12.9</td>\n      <td>7</td>\n    </tr>\n    <tr>\n      <th>3999</th>\n      <td>Merlot</td>\n      <td>6.6</td>\n      <td>0.37</td>\n      <td>0.07</td>\n      <td>1.4</td>\n      <td>28.038626</td>\n      <td>1190.75</td>\n      <td>129.198626</td>\n      <td>101.16</td>\n      <td>0.048</td>\n      <td>58.0</td>\n      <td>144.0</td>\n      <td>0.99220</td>\n      <td>3.17</td>\n      <td>0.38</td>\n      <td>10.0</td>\n      <td>5</td>\n    </tr>\n  </tbody>\n</table>\n<p>3961 rows × 17 columns</p>\n</div>"
     },
     "execution_count": 45,
     "metadata": {},
     "output_type": "execute_result"
    }
   ],
   "source": [
    "df_wine_clean = df_wine[df_wine.quality != 99]\n",
    "df_wine_clean"
   ],
   "metadata": {
    "collapsed": false
   }
  },
  {
   "cell_type": "markdown",
   "source": [
    "2. Separate Gamay and No-Gamay"
   ],
   "metadata": {
    "collapsed": false
   }
  },
  {
   "cell_type": "code",
   "execution_count": 46,
   "outputs": [],
   "source": [
    "df_wine_no_gamay = df_wine_clean[df_wine_clean[\"wine_type\"]!=\"Gamay\"].copy()\n",
    "df_wine_gamay = df_wine_clean[df_wine_clean[\"wine_type\"]==\"Gamay\"].copy()"
   ],
   "metadata": {
    "collapsed": false
   }
  },
  {
   "cell_type": "markdown",
   "source": [
    "3. OneHotEncode Wine Type for df_wine_clean, df_wine_no_gamay\n",
    "4. Drop Wine Type for df_wine_gamay"
   ],
   "metadata": {
    "collapsed": false
   }
  },
  {
   "cell_type": "code",
   "execution_count": 47,
   "outputs": [
    {
     "data": {
      "text/plain": "      fixed_acidity  volatile_acidity  citric_acid  residual_sugar  magnesium  \\\n0               5.8              0.15         0.49             1.1  76.729301   \n1               6.6              0.25         0.32             5.6   4.795712   \n2               6.7              0.21         0.34             1.5  85.193710   \n3               8.3              0.28         0.27            17.5  11.976525   \n4               7.5              0.42         0.19             6.9   5.599673   \n...             ...               ...          ...             ...        ...   \n3995            6.4              0.23         0.37             7.9  92.701914   \n3996            7.0              0.22         0.26             9.2  94.807955   \n3997            7.5              0.26         0.30             4.6  50.112474   \n3998            6.3              0.43         0.32             8.8  84.805688   \n3999            6.6              0.37         0.07             1.4  28.038626   \n\n      flavanoids    minerals  calcium  chlorides  free_sulfur_dioxide  ...  \\\n0         894.94  186.639301   109.91      0.048                 21.0  ...   \n1        1160.95  251.875712   247.08      0.039                 15.0  ...   \n2         789.82  304.703710   219.51      0.035                 45.0  ...   \n3         777.86  237.586525   225.61      0.045                 48.0  ...   \n4         785.72   95.399673    89.80      0.041                 62.0  ...   \n...          ...         ...      ...        ...                  ...  ...   \n3995     1143.32  318.791914   226.09      0.050                 60.0  ...   \n3996      863.32  322.107955   227.30      0.027                 37.0  ...   \n3997      831.67  360.872474   310.76      0.027                 29.0  ...   \n3998     1300.32  328.915688   244.11      0.042                 18.0  ...   \n3999     1190.75  129.198626   101.16      0.048                 58.0  ...   \n\n      density    pH  sulphates  alcohol  quality  Cabernet Sauvignon  \\\n0     0.99290  3.19       0.48      9.2        5                 0.0   \n1     0.99163  2.96       0.52     11.1        6                 0.0   \n2     0.98949  3.24       0.36     12.6        7                 0.0   \n3     1.00014  3.02       0.56      9.1        6                 0.0   \n4     0.99508  3.23       0.37     10.0        6                 0.0   \n...       ...   ...        ...      ...      ...                 ...   \n3995  0.99488  2.86       0.49      9.3        6                 1.0   \n3996  0.99228  3.06       0.34     12.5        8                 1.0   \n3997  0.99085  3.15       0.38     12.0        7                 0.0   \n3998  0.99172  3.28       0.33     12.9        7                 0.0   \n3999  0.99220  3.17       0.38     10.0        5                 0.0   \n\n      Chardonnay  Gamay  Merlot  Pinot noir  \n0            0.0    0.0     0.0         1.0  \n1            0.0    0.0     1.0         0.0  \n2            1.0    0.0     0.0         0.0  \n3            0.0    0.0     1.0         0.0  \n4            0.0    0.0     1.0         0.0  \n...          ...    ...     ...         ...  \n3995         0.0    0.0     0.0         0.0  \n3996         0.0    0.0     0.0         0.0  \n3997         0.0    0.0     1.0         0.0  \n3998         1.0    0.0     0.0         0.0  \n3999         0.0    0.0     1.0         0.0  \n\n[3961 rows x 21 columns]",
      "text/html": "<div>\n<style scoped>\n    .dataframe tbody tr th:only-of-type {\n        vertical-align: middle;\n    }\n\n    .dataframe tbody tr th {\n        vertical-align: top;\n    }\n\n    .dataframe thead th {\n        text-align: right;\n    }\n</style>\n<table border=\"1\" class=\"dataframe\">\n  <thead>\n    <tr style=\"text-align: right;\">\n      <th></th>\n      <th>fixed_acidity</th>\n      <th>volatile_acidity</th>\n      <th>citric_acid</th>\n      <th>residual_sugar</th>\n      <th>magnesium</th>\n      <th>flavanoids</th>\n      <th>minerals</th>\n      <th>calcium</th>\n      <th>chlorides</th>\n      <th>free_sulfur_dioxide</th>\n      <th>...</th>\n      <th>density</th>\n      <th>pH</th>\n      <th>sulphates</th>\n      <th>alcohol</th>\n      <th>quality</th>\n      <th>Cabernet Sauvignon</th>\n      <th>Chardonnay</th>\n      <th>Gamay</th>\n      <th>Merlot</th>\n      <th>Pinot noir</th>\n    </tr>\n  </thead>\n  <tbody>\n    <tr>\n      <th>0</th>\n      <td>5.8</td>\n      <td>0.15</td>\n      <td>0.49</td>\n      <td>1.1</td>\n      <td>76.729301</td>\n      <td>894.94</td>\n      <td>186.639301</td>\n      <td>109.91</td>\n      <td>0.048</td>\n      <td>21.0</td>\n      <td>...</td>\n      <td>0.99290</td>\n      <td>3.19</td>\n      <td>0.48</td>\n      <td>9.2</td>\n      <td>5</td>\n      <td>0.0</td>\n      <td>0.0</td>\n      <td>0.0</td>\n      <td>0.0</td>\n      <td>1.0</td>\n    </tr>\n    <tr>\n      <th>1</th>\n      <td>6.6</td>\n      <td>0.25</td>\n      <td>0.32</td>\n      <td>5.6</td>\n      <td>4.795712</td>\n      <td>1160.95</td>\n      <td>251.875712</td>\n      <td>247.08</td>\n      <td>0.039</td>\n      <td>15.0</td>\n      <td>...</td>\n      <td>0.99163</td>\n      <td>2.96</td>\n      <td>0.52</td>\n      <td>11.1</td>\n      <td>6</td>\n      <td>0.0</td>\n      <td>0.0</td>\n      <td>0.0</td>\n      <td>1.0</td>\n      <td>0.0</td>\n    </tr>\n    <tr>\n      <th>2</th>\n      <td>6.7</td>\n      <td>0.21</td>\n      <td>0.34</td>\n      <td>1.5</td>\n      <td>85.193710</td>\n      <td>789.82</td>\n      <td>304.703710</td>\n      <td>219.51</td>\n      <td>0.035</td>\n      <td>45.0</td>\n      <td>...</td>\n      <td>0.98949</td>\n      <td>3.24</td>\n      <td>0.36</td>\n      <td>12.6</td>\n      <td>7</td>\n      <td>0.0</td>\n      <td>1.0</td>\n      <td>0.0</td>\n      <td>0.0</td>\n      <td>0.0</td>\n    </tr>\n    <tr>\n      <th>3</th>\n      <td>8.3</td>\n      <td>0.28</td>\n      <td>0.27</td>\n      <td>17.5</td>\n      <td>11.976525</td>\n      <td>777.86</td>\n      <td>237.586525</td>\n      <td>225.61</td>\n      <td>0.045</td>\n      <td>48.0</td>\n      <td>...</td>\n      <td>1.00014</td>\n      <td>3.02</td>\n      <td>0.56</td>\n      <td>9.1</td>\n      <td>6</td>\n      <td>0.0</td>\n      <td>0.0</td>\n      <td>0.0</td>\n      <td>1.0</td>\n      <td>0.0</td>\n    </tr>\n    <tr>\n      <th>4</th>\n      <td>7.5</td>\n      <td>0.42</td>\n      <td>0.19</td>\n      <td>6.9</td>\n      <td>5.599673</td>\n      <td>785.72</td>\n      <td>95.399673</td>\n      <td>89.80</td>\n      <td>0.041</td>\n      <td>62.0</td>\n      <td>...</td>\n      <td>0.99508</td>\n      <td>3.23</td>\n      <td>0.37</td>\n      <td>10.0</td>\n      <td>6</td>\n      <td>0.0</td>\n      <td>0.0</td>\n      <td>0.0</td>\n      <td>1.0</td>\n      <td>0.0</td>\n    </tr>\n    <tr>\n      <th>...</th>\n      <td>...</td>\n      <td>...</td>\n      <td>...</td>\n      <td>...</td>\n      <td>...</td>\n      <td>...</td>\n      <td>...</td>\n      <td>...</td>\n      <td>...</td>\n      <td>...</td>\n      <td>...</td>\n      <td>...</td>\n      <td>...</td>\n      <td>...</td>\n      <td>...</td>\n      <td>...</td>\n      <td>...</td>\n      <td>...</td>\n      <td>...</td>\n      <td>...</td>\n      <td>...</td>\n    </tr>\n    <tr>\n      <th>3995</th>\n      <td>6.4</td>\n      <td>0.23</td>\n      <td>0.37</td>\n      <td>7.9</td>\n      <td>92.701914</td>\n      <td>1143.32</td>\n      <td>318.791914</td>\n      <td>226.09</td>\n      <td>0.050</td>\n      <td>60.0</td>\n      <td>...</td>\n      <td>0.99488</td>\n      <td>2.86</td>\n      <td>0.49</td>\n      <td>9.3</td>\n      <td>6</td>\n      <td>1.0</td>\n      <td>0.0</td>\n      <td>0.0</td>\n      <td>0.0</td>\n      <td>0.0</td>\n    </tr>\n    <tr>\n      <th>3996</th>\n      <td>7.0</td>\n      <td>0.22</td>\n      <td>0.26</td>\n      <td>9.2</td>\n      <td>94.807955</td>\n      <td>863.32</td>\n      <td>322.107955</td>\n      <td>227.30</td>\n      <td>0.027</td>\n      <td>37.0</td>\n      <td>...</td>\n      <td>0.99228</td>\n      <td>3.06</td>\n      <td>0.34</td>\n      <td>12.5</td>\n      <td>8</td>\n      <td>1.0</td>\n      <td>0.0</td>\n      <td>0.0</td>\n      <td>0.0</td>\n      <td>0.0</td>\n    </tr>\n    <tr>\n      <th>3997</th>\n      <td>7.5</td>\n      <td>0.26</td>\n      <td>0.30</td>\n      <td>4.6</td>\n      <td>50.112474</td>\n      <td>831.67</td>\n      <td>360.872474</td>\n      <td>310.76</td>\n      <td>0.027</td>\n      <td>29.0</td>\n      <td>...</td>\n      <td>0.99085</td>\n      <td>3.15</td>\n      <td>0.38</td>\n      <td>12.0</td>\n      <td>7</td>\n      <td>0.0</td>\n      <td>0.0</td>\n      <td>0.0</td>\n      <td>1.0</td>\n      <td>0.0</td>\n    </tr>\n    <tr>\n      <th>3998</th>\n      <td>6.3</td>\n      <td>0.43</td>\n      <td>0.32</td>\n      <td>8.8</td>\n      <td>84.805688</td>\n      <td>1300.32</td>\n      <td>328.915688</td>\n      <td>244.11</td>\n      <td>0.042</td>\n      <td>18.0</td>\n      <td>...</td>\n      <td>0.99172</td>\n      <td>3.28</td>\n      <td>0.33</td>\n      <td>12.9</td>\n      <td>7</td>\n      <td>0.0</td>\n      <td>1.0</td>\n      <td>0.0</td>\n      <td>0.0</td>\n      <td>0.0</td>\n    </tr>\n    <tr>\n      <th>3999</th>\n      <td>6.6</td>\n      <td>0.37</td>\n      <td>0.07</td>\n      <td>1.4</td>\n      <td>28.038626</td>\n      <td>1190.75</td>\n      <td>129.198626</td>\n      <td>101.16</td>\n      <td>0.048</td>\n      <td>58.0</td>\n      <td>...</td>\n      <td>0.99220</td>\n      <td>3.17</td>\n      <td>0.38</td>\n      <td>10.0</td>\n      <td>5</td>\n      <td>0.0</td>\n      <td>0.0</td>\n      <td>0.0</td>\n      <td>1.0</td>\n      <td>0.0</td>\n    </tr>\n  </tbody>\n</table>\n<p>3961 rows × 21 columns</p>\n</div>"
     },
     "execution_count": 47,
     "metadata": {},
     "output_type": "execute_result"
    }
   ],
   "source": [
    "df_wine_gamay = df_wine_gamay.copy().drop(columns=[\"wine_type\"])\n",
    "df_wine_gamay\n",
    "\n",
    "# One Hot Encoding\n",
    "wine_type_array = df_wine_no_gamay[\"wine_type\"].to_numpy()\n",
    "\n",
    "ohe = OneHotEncoder(sparse=False)\n",
    "wine_type_transformed = ohe.fit_transform(wine_type_array.reshape(-1, 1))  # 1d array -> 2d array\n",
    "df_wine_no_gamay[ohe.categories_[0]] = wine_type_transformed\n",
    "df_wine_no_gamay = df_wine_no_gamay.copy().drop(columns=[\"wine_type\"])\n",
    "#df_wine_no_gamay\n",
    "\n",
    "# OneHotEncoding df_clean\n",
    "wine_type_array = df_wine_clean[\"wine_type\"].to_numpy()\n",
    "\n",
    "ohe = OneHotEncoder(sparse=False)\n",
    "wine_type_transformed = ohe.fit_transform(wine_type_array.reshape(-1, 1))  # 1d array -> 2d array\n",
    "df_wine_clean[ohe.categories_[0]] = wine_type_transformed\n",
    "df_wine_clean = df_wine_clean.copy().drop(columns=[\"wine_type\"])\n",
    "df_wine_clean"
   ],
   "metadata": {
    "collapsed": false
   }
  },
  {
   "cell_type": "markdown",
   "source": [
    "This results in three dataframes to be used for modelling:\n",
    "- df_wine_clean, containing all wines\n",
    "- df_wine_no_gamay\n",
    "- df_wine_gamay"
   ],
   "metadata": {
    "collapsed": false
   }
  },
  {
   "cell_type": "markdown",
   "source": [
    "# Defining preprocessing pipelines\n",
    "\n",
    "The pipelines implement the following preprocessing steps:\n",
    "- `pipeline1`: Univariate outliers and noise filtering\n",
    "- `pipeline2`: Multivariate outliers and noise filtering\n",
    "- `pipeline3`: Univariate outliers, multivariate outliers and noise filtering"
   ],
   "metadata": {
    "collapsed": false
   }
  },
  {
   "cell_type": "code",
   "execution_count": 51,
   "outputs": [],
   "source": [
    "# univariate outlier + noise\n",
    "def pipeline1(df, input_df=\"\"):\n",
    "    temp_df=df.copy()\n",
    "    temp_df = remove_univariate_outliers(temp_df)\n",
    "    temp_df = noise_filtering(temp_df, 1)\n",
    "    X = temp_df.drop('quality', axis='columns')\n",
    "    y = temp_df['quality']\n",
    "    # split off some data for testing\n",
    "    X_train, X_test, y_train, y_test = train_test_split(X, y, test_size=0.2)\n",
    "    return {\n",
    "        'X': X,\n",
    "        'y': y,\n",
    "        'X_train': X_train,\n",
    "        'X_test': X_test,\n",
    "        'y_train': y_train,\n",
    "        'y_test': y_test,\n",
    "        'input_df': input_df,\n",
    "        'preprocessing_steps': 'univariate outlier + noise'\n",
    "    }\n",
    "pipeline1_clean = pipeline1(df_wine_clean, \"df_wine_clean\")\n",
    "pipeline1_no_gamay = pipeline1(df_wine_no_gamay, \"df_wine_no_gamay\")\n",
    "pipeline1_gamay = pipeline1(df_wine_gamay, \"df_wine_gamay\")\n",
    "\n",
    "# multivariate outlier + noise\n",
    "def pipeline2(df, input_df=\"\"):\n",
    "    temp_df=df.copy()\n",
    "    temp_df = remove_multivariate_outlier(temp_df).drop(columns=[\"outliers\"])\n",
    "    #print(temp_df)\n",
    "    temp_df = noise_filtering(temp_df, 1)\n",
    "    X = temp_df.drop('quality', axis='columns')\n",
    "    y = temp_df['quality']\n",
    "    # split off some data for testing\n",
    "    X_train, X_test, y_train, y_test = train_test_split(X, y, test_size=0.2)\n",
    "    return {\n",
    "        'X': X,\n",
    "        'y': y,\n",
    "        'X_train': X_train,\n",
    "        'X_test': X_test,\n",
    "        'y_train': y_train,\n",
    "        'y_test': y_test,\n",
    "        'input_df': input_df,\n",
    "        'preprocessing_steps': 'multivariate outlier + noise'\n",
    "    }\n",
    "pipeline2_clean = pipeline2(df_wine_clean, \"df_wine_clean\")\n",
    "pipeline2_no_gamay = pipeline2(df_wine_no_gamay, \"df_wine_no_gamay\")\n",
    "pipeline2_gamay = pipeline2(df_wine_gamay, \"df_wine_gamay\")\n",
    "\n",
    "# uni+multivariate outlier + noise\n",
    "def pipeline3(df, input_df=\"\"):\n",
    "    temp_df=df.copy()\n",
    "    temp_df = uni_multi_variate_outlier(temp_df).drop(columns=[\"outliers\"])\n",
    "    temp_df = noise_filtering(temp_df, 1)\n",
    "    X = temp_df.drop('quality', axis='columns')\n",
    "    y = temp_df['quality']\n",
    "    # split off some data for testing\n",
    "    X_train, X_test, y_train, y_test = train_test_split(X, y, test_size=0.2)\n",
    "    return {\n",
    "        'X': X,\n",
    "        'y': y,\n",
    "        'X_train': X_train,\n",
    "        'X_test': X_test,\n",
    "        'y_train': y_train,\n",
    "        'y_test': y_test,\n",
    "        'input_df': input_df,\n",
    "        'preprocessing_steps': 'uni-multivariate outlier + noise'\n",
    "    }\n",
    "pipeline3_clean = pipeline3(df_wine_clean, \"df_wine_clean\")\n",
    "pipeline3_no_gamay = pipeline3(df_wine_no_gamay, \"df_wine_no_gamay\")\n",
    "pipeline3_gamay = pipeline3(df_wine_gamay, \"df_wine_gamay\")\n"
   ],
   "metadata": {
    "collapsed": false
   }
  },
  {
   "cell_type": "markdown",
   "source": [
    "Predictions for the different dataframes are to be made using every pipeline:"
   ],
   "metadata": {
    "collapsed": false
   }
  },
  {
   "cell_type": "code",
   "execution_count": 52,
   "outputs": [],
   "source": [
    "pipelines_clean = [pipeline1_clean,pipeline2_clean,pipeline3_clean]\n",
    "\n",
    "pipelines_no_gamay = [pipeline1_no_gamay, pipeline2_no_gamay, pipeline3_no_gamay]\n",
    "\n",
    "pipelines_gamay =[pipeline1_gamay, pipeline2_gamay, pipeline3_gamay]\n",
    "\n",
    "pipelines = [pipeline1_clean,pipeline2_clean,pipeline3_clean, pipeline1_no_gamay, pipeline2_no_gamay, pipeline3_no_gamay, pipeline1_gamay, pipeline2_gamay, pipeline3_gamay]"
   ],
   "metadata": {
    "collapsed": false
   }
  },
  {
   "cell_type": "markdown",
   "source": [
    "# Grid search\n",
    "\n",
    "## Logging\n",
    "\n",
    "The result and composition of each combination of model and preprocessing steps are being documented in `logging.log` following this style:\n",
    "\n",
    "``15.01.2023, 16:51:27: Input dataframe: df_wine_gamay, Preprocessing: univariate outlier + noise``<br>\n",
    "``15.01.2023, 16:51:27: Best Parameters for  KNeighborsRegressor(): {'model__algorithm': 'ball_tree', 'model__n_neighbors': 16, 'model__p': 3, 'model__weights': 'distance'}``<br>\n",
    "``15.01.2023, 16:51:27: Best Score for  KNeighborsRegressor(): 0.10587181662752698``<br>\n"
   ],
   "metadata": {
    "collapsed": false
   }
  },
  {
   "cell_type": "code",
   "execution_count": 53,
   "outputs": [],
   "source": [
    "import os\n",
    "\n",
    "# Logging: Noch auslagern\n",
    "outputfile = 'logging.log'\n",
    "def init_logging(file_path, truncate):\n",
    "    # Check if the file exists\n",
    "    if not os.path.exists(file_path):\n",
    "        # Create the file\n",
    "        open(file_path, 'w').close()\n",
    "    else:\n",
    "        if truncate:\n",
    "            with open(file_path, 'w') as f:\n",
    "                # Truncate the file\n",
    "                f.truncate(0)\n",
    "init_logging(outputfile, truncate=0)\n",
    "\n",
    "\n",
    "def write_to_log_file(msg, file = 'logging.log'):\n",
    "    print(msg)\n",
    "    # Open the file in append mode\n",
    "    with open(file, 'a', newline='') as logfile:\n",
    "        logfile.write(f\"{date_time}: {msg}\\n\")"
   ],
   "metadata": {
    "collapsed": false
   }
  },
  {
   "cell_type": "markdown",
   "source": [
    "## Applying preprocessing parameters, models and hyperparameters\n",
    "\n",
    "- Hyperparameters are loaded from `hyperparameters.json`\n",
    "- ```grid_search.best_score``` returns an R² value."
   ],
   "metadata": {
    "collapsed": false
   }
  },
  {
   "cell_type": "code",
   "execution_count": null,
   "outputs": [],
   "source": [
    "for pipeline in pipelines:\n",
    "    print(pipeline['X'].shape)\n",
    "\n",
    "with open('hyperparameters.json') as f:\n",
    "        hyperparameters = json.load(f)\n",
    "\n",
    "def grid_search(model, pipe, pipeline):\n",
    "    keys_to_remove=models[model]['keys_to_remove']\n",
    "    param_grid={key: value for key, value in models[model].items() if key not in keys_to_remove}\n",
    "\n",
    "    grid_search = GridSearchCV(pipe, param_grid=param_grid)\n",
    "    grid_search.fit(pipeline['X'], pipeline['y'])\n",
    "    # Print the best parameters and score for model\n",
    "    write_to_log_file(f\"Input dataframe: {pipeline['input_df']}, Preprocessing: {pipeline['preprocessing_steps']}\")\n",
    "    write_to_log_file(f\"Best Parameters for {models[model]['model']}: {grid_search.best_params_}\")\n",
    "    write_to_log_file(f\"Best Score for {models[model]['model']}: {grid_search.best_score_}\")\n",
    "    write_to_log_file(60*\"_\")\n",
    "\n",
    "start_time = time.time()\n",
    "for pipeline in pipelines:\n",
    "    print(\"NEW PIPELINE TEST:\")\n",
    "    print(pipeline['X'].shape)\n",
    "    models = hyperparameters['models']\n",
    "    for model in models:\n",
    "        data = models[model]\n",
    "        if 'preprocessing' in data:\n",
    "            for preprocessing in data['preprocessing']:\n",
    "                pipeline_data = []\n",
    "                pipeline_data.append(('preprocessing', eval(preprocessing)))\n",
    "                pipeline_data.append(('model', eval(models[model]['model'])))\n",
    "                pipe = Pipeline(pipeline_data)\n",
    "                grid_search(model, pipe, pipeline)\n",
    "\n",
    "        else:\n",
    "            pipeline_data = []\n",
    "            pipeline_data.append(('model', eval(models[model]['model'])))\n",
    "            pipe = Pipeline(pipeline_data)\n",
    "            grid_search(model, pipe, pipeline)\n",
    "\n",
    "write_to_log_file(f'{(time.time() - start_time)}')\n",
    "write_to_log_file(60*\"_\")"
   ],
   "metadata": {
    "collapsed": false
   }
  },
  {
   "cell_type": "code",
   "execution_count": null,
   "outputs": [],
   "source": [
    "for pipeline in pipelines:\n",
    "    print(\"________________________-\")\n",
    "    print(f\"Input dataframe: {pipeline['input_df']}, Preprocessing: {pipeline['preprocessing_steps']}\")\n",
    "    print\n",
    "    baseline_regression_model(regression_models, pipeline['X_train'].drop(columns=['minerals', 'magnesium', 'flavanoids', 'calcium']), pipeline['X_test'].drop(columns=['minerals', 'magnesium', 'flavanoids', 'calcium']), pipeline['y_train'], pipeline['y_test'])\n",
    "    print(\"\\n\")"
   ],
   "metadata": {
    "collapsed": false
   }
  },
  {
   "cell_type": "markdown",
   "source": [
    "### Best R² and MSE: RandomForestRegressor\n",
    "\n",
    "For the different pipelines we print the results and do an feature importance analysis"
   ],
   "metadata": {
    "collapsed": false
   }
  },
  {
   "cell_type": "code",
   "execution_count": 54,
   "outputs": [
    {
     "name": "stdout",
     "output_type": "stream",
     "text": [
      "________________________\n",
      "Input dataframe: df_wine_clean, Preprocessing: univariate outlier + noise\n",
      "MSE: 0.38513485424588084\n",
      "R2: 0.652799369475306\n",
      "\n",
      "\n",
      "________________________\n",
      "Input dataframe: df_wine_clean, Preprocessing: multivariate outlier + noise\n",
      "MSE: 0.4154591315453385\n",
      "R2: 0.6607033028732799\n",
      "\n",
      "\n",
      "________________________\n",
      "Input dataframe: df_wine_clean, Preprocessing: uni-multivariate outlier + noise\n",
      "MSE: 0.402055938697318\n",
      "R2: 0.6785778526832984\n",
      "\n",
      "\n",
      "________________________\n",
      "Input dataframe: df_wine_no_gamay, Preprocessing: univariate outlier + noise\n",
      "MSE: 0.3996304177545692\n",
      "R2: 0.46369470706091165\n",
      "\n",
      "\n",
      "________________________\n",
      "Input dataframe: df_wine_no_gamay, Preprocessing: multivariate outlier + noise\n",
      "MSE: 0.4370177631578947\n",
      "R2: 0.4192187730083935\n",
      "\n",
      "\n",
      "________________________\n",
      "Input dataframe: df_wine_no_gamay, Preprocessing: uni-multivariate outlier + noise\n",
      "MSE: 0.37797447368421055\n",
      "R2: 0.4746400487054786\n",
      "\n",
      "\n",
      "________________________\n",
      "Input dataframe: df_wine_gamay, Preprocessing: univariate outlier + noise\n",
      "MSE: 0.17331304347826088\n",
      "R2: 0.29474923076923043\n",
      "\n",
      "\n",
      "________________________\n",
      "Input dataframe: df_wine_gamay, Preprocessing: multivariate outlier + noise\n",
      "MSE: 0.1746391304347826\n",
      "R2: 0.1751419642857145\n",
      "\n",
      "\n",
      "________________________\n",
      "Input dataframe: df_wine_gamay, Preprocessing: uni-multivariate outlier + noise\n",
      "MSE: 0.20631304347826085\n",
      "R2: 0.025539285714285986\n",
      "\n",
      "\n"
     ]
    },
    {
     "data": {
      "text/plain": "<Figure size 640x480 with 1 Axes>",
      "image/png": "[encoded data removed]"
     },
     "metadata": {},
     "output_type": "display_data"
    }
   ],
   "source": [
    "rfc = RandomForestRegressor(random_state=42)\n",
    "\n",
    "for pipeline in pipelines:\n",
    "    print(\"________________________\")\n",
    "    print(f\"Input dataframe: {pipeline['input_df']}, Preprocessing: {pipeline['preprocessing_steps']}\")\n",
    "\n",
    "\n",
    "    rfc.fit(pipeline['X_train'], pipeline['y_train'])\n",
    "\n",
    "    y_pred = rfc.predict(pipeline['X_test'])\n",
    "\n",
    "    # Calculate the mean squared error and R-squared\n",
    "    mse = mean_squared_error(pipeline['y_test'], y_pred)\n",
    "    r2 = r2_score(pipeline['y_test'], y_pred)\n",
    "    write_to_log_file(f\"MSE: {mse}\")\n",
    "    write_to_log_file(f\"R2: {r2}\")\n",
    "    feat_importances = pd.Series(rfc.feature_importances_, index = pipeline['X_train'].columns).sort_values(ascending = True)\n",
    "    feat_importances.plot(kind = 'barh')\n",
    "    plt.title('Feature Importances RandomForest')\n",
    "    print(\"\\n\")\n"
   ],
   "metadata": {
    "collapsed": false
   }
  },
  {
   "cell_type": "markdown",
   "source": [
    "# Test Clean dataframe"
   ],
   "metadata": {
    "collapsed": false
   }
  },
  {
   "cell_type": "code",
   "execution_count": 55,
   "outputs": [
    {
     "data": {
      "text/plain": "array([5.75, 5.37, 5.98, 4.93, 6.68, 5.63, 1.96, 5.7 , 5.85, 5.3 , 5.36,\n       6.16, 6.5 , 5.92, 5.27, 6.8 , 5.19, 6.6 , 5.73, 5.19, 6.55, 6.08,\n       6.14, 5.19, 5.3 , 5.61, 5.78, 5.95, 6.48, 5.27, 6.35, 6.62, 5.61,\n       5.33, 6.07, 6.27, 6.11, 6.08, 5.63, 5.49, 5.56, 6.52, 5.79, 5.98,\n       6.05, 6.31, 5.32, 6.37, 6.21, 6.1 , 5.92, 6.23, 5.94, 6.26, 5.36,\n       5.66, 6.07, 6.26, 6.88, 6.65, 5.26, 6.3 , 6.07, 5.77, 5.61, 6.07,\n       6.58, 6.63, 6.29, 5.95, 6.03, 5.22, 6.62, 5.22, 6.43, 6.01, 6.28,\n       5.76, 5.36, 5.91, 1.93, 6.38, 5.17, 5.75, 5.81, 5.95, 6.52, 5.35,\n       6.55, 6.15, 5.63, 5.46, 5.4 , 6.75, 5.81, 5.4 , 6.84, 5.09, 6.17,\n       6.54, 5.92, 5.67, 5.34, 6.64, 5.95, 6.17, 4.88, 5.42, 5.99, 6.94,\n       1.59, 5.75, 6.45, 1.5 , 6.35, 5.11, 6.17, 7.68, 6.04, 5.85, 5.42,\n       5.86, 6.67, 5.83, 6.92, 6.2 , 6.06, 5.51, 5.36, 6.34, 5.43, 5.57,\n       5.14, 5.24, 6.3 , 6.1 , 6.56, 4.75, 6.36, 6.06, 5.87, 5.24, 5.89,\n       5.58, 5.27, 5.79, 6.4 , 5.6 , 6.02, 5.49, 5.79, 5.81, 6.68, 5.32,\n       1.29, 6.74, 6.02, 5.52, 6.21, 5.52, 6.79, 5.53, 6.03, 5.09, 5.17,\n       6.12, 7.04, 4.44, 5.62, 5.75, 5.82, 5.1 , 6.49, 5.52, 5.75, 5.38,\n       6.3 , 5.87, 5.24, 5.35, 5.18, 5.45, 6.78, 5.48, 6.15, 6.13, 6.  ,\n       6.12, 6.  , 6.39, 6.66, 5.41, 1.83, 6.73, 5.78, 5.9 , 6.51, 6.17,\n       6.43, 5.32, 5.27, 5.53, 5.35, 5.94, 5.94, 5.15, 6.15, 7.19, 6.25,\n       5.86, 5.81, 6.07, 6.06, 6.27, 5.57, 6.09, 6.56, 6.71, 6.16, 4.7 ,\n       5.75, 6.84, 6.67, 5.86, 1.55, 6.59, 4.69, 5.85, 5.61, 5.99, 6.19,\n       6.03, 5.04, 5.88, 6.28, 4.65, 6.42, 6.13, 5.97, 1.35, 6.14, 1.62,\n       5.22, 5.69, 5.79, 6.58, 5.19, 5.58, 6.23, 5.67, 6.86, 5.9 , 1.93,\n       6.82, 5.38, 6.  , 5.48, 1.95, 6.57, 4.81, 6.55, 5.5 , 6.2 , 5.42,\n       5.76, 6.3 , 6.38, 7.56, 5.91, 5.13, 5.3 , 7.22, 5.77, 5.86, 5.47,\n       6.43, 6.52, 5.99, 7.2 , 5.68, 6.03, 5.16, 1.92, 6.19, 5.7 , 5.83,\n       6.06, 5.53, 5.46, 6.63, 6.68, 5.7 , 6.97, 5.62, 5.93, 5.26, 7.02,\n       6.36, 5.8 , 5.24, 6.43, 6.65, 6.37, 5.98, 5.85, 5.7 , 5.69, 5.65,\n       6.25, 5.09, 6.18, 6.55, 5.51, 5.78, 6.13, 5.48, 5.5 , 5.17, 6.06,\n       4.94, 6.59, 5.64, 6.21, 6.79, 1.56, 5.26, 6.47, 5.26, 6.17, 5.4 ,\n       6.13, 5.9 , 5.2 , 7.16, 6.01, 6.58, 6.06, 5.85, 6.07, 6.46, 4.92,\n       6.16, 6.28, 6.3 , 6.01, 5.16, 6.28, 6.  , 6.01, 5.59, 6.59, 6.  ,\n       1.24, 5.06, 6.51, 5.28, 5.89, 5.62, 5.32, 5.75, 5.46, 6.69, 5.9 ,\n       5.41, 6.46, 6.58, 5.59, 6.82, 5.48, 6.95, 5.17, 5.77, 5.71, 5.62,\n       5.79, 6.46, 5.89, 6.54, 5.56, 6.36, 6.02, 5.69, 6.08, 5.49, 5.26,\n       6.35, 5.72, 5.95, 6.65, 6.01, 7.51, 1.79, 5.46, 7.63, 6.83, 6.12,\n       5.28, 5.13, 5.17, 7.24, 5.3 , 7.01, 5.06, 5.23, 5.32, 5.46, 6.4 ,\n       6.14, 5.85, 6.37, 5.68, 5.05, 5.99, 5.77, 5.14, 5.16, 5.34, 5.79,\n       6.02, 6.72, 5.6 , 5.09, 5.27, 5.49, 5.74, 5.49, 5.35, 6.06, 6.43,\n       5.24, 5.6 , 5.42, 6.53, 5.83, 5.74, 5.69, 5.91, 6.94, 6.37, 5.88,\n       5.67, 6.37, 6.91, 5.35, 6.79, 6.05, 5.23, 5.83, 6.63, 5.73, 5.28,\n       5.72, 6.19, 5.21, 5.44, 6.15, 4.99, 5.53, 6.47, 5.23, 6.67, 5.06,\n       6.18, 6.06, 5.63, 6.31, 5.32, 6.75, 6.13, 6.52, 6.15, 6.43, 5.8 ,\n       5.61, 6.21, 1.19, 5.05, 4.57, 5.04, 5.78, 6.65, 6.2 , 5.14, 5.96,\n       6.6 , 5.28, 5.85, 5.76, 6.25, 5.72, 6.58, 1.87, 7.48, 5.34, 5.34,\n       6.26, 6.07, 5.42, 5.99, 5.75, 6.85, 6.02, 6.03, 5.48, 6.14, 5.16,\n       6.  , 5.23, 5.79, 5.63, 5.08, 5.38, 6.09, 5.44, 5.5 , 4.75, 6.12,\n       5.74, 6.8 , 6.13, 6.23, 6.18, 5.88, 5.84, 5.53, 5.39, 5.37, 5.95,\n       5.14, 6.62, 5.77, 5.23, 5.33, 5.09, 5.75, 6.7 , 5.86, 5.74, 6.86,\n       6.08, 6.37, 5.9 , 5.62, 6.18, 5.89, 5.13, 6.44, 6.76, 5.32, 6.17,\n       5.95, 6.64, 7.63, 5.56, 5.93, 6.87, 5.35, 6.92, 5.28, 1.62, 5.53,\n       5.7 , 5.32, 5.43, 5.52, 6.05, 5.16, 5.08, 5.39, 5.19, 5.15, 6.19,\n       5.51, 6.06, 6.31, 5.6 , 6.58, 5.06, 5.98, 5.99, 6.28, 5.85, 5.69,\n       6.71, 5.32, 6.41, 5.39, 5.63, 6.19, 6.39, 5.69, 5.76, 6.13, 5.58,\n       7.01, 5.29, 6.57, 6.73, 5.44, 5.28, 5.6 , 5.58, 6.55, 5.68, 1.24,\n       6.34, 6.24, 5.97, 6.09, 5.83, 5.96, 6.16, 6.05, 5.87, 6.91, 5.17,\n       6.15, 5.15, 5.52, 6.71, 6.53, 1.96, 6.58, 5.68, 6.65, 5.77, 5.06,\n       5.94, 6.09, 6.43, 5.63, 5.3 , 5.79, 6.05, 6.65, 6.07, 5.34, 5.5 ,\n       5.34, 6.8 , 5.62, 5.98, 5.91, 6.22, 5.78, 5.8 , 6.35, 6.24, 5.15,\n       6.18, 6.47, 6.47, 6.28, 5.11, 5.3 , 5.41, 5.25, 5.22, 5.14, 5.73,\n       5.08, 6.09, 6.11, 5.21, 5.93, 5.25, 5.2 , 6.03, 5.43, 5.98, 5.81,\n       6.09, 5.33, 5.84, 7.15, 5.77, 4.79, 6.71, 5.72, 5.87, 5.48, 5.98,\n       5.84, 5.08, 6.14, 6.08, 5.74, 5.65, 5.86, 5.15, 5.54, 5.66, 6.68,\n       6.92, 6.63, 5.45, 1.2 , 5.39, 6.84, 6.24, 6.05, 6.05, 6.68, 5.35,\n       5.52, 5.94, 6.79, 6.74, 6.02, 6.16, 5.84, 7.69, 6.49, 6.54, 6.21,\n       5.3 , 6.07, 5.83, 5.55, 5.25, 6.5 , 5.83, 5.5 , 5.2 , 6.2 , 5.26,\n       5.07, 6.06, 6.15, 6.19, 5.61, 5.72, 5.66, 5.78, 1.4 , 1.95, 5.35,\n       4.88, 5.3 , 5.91, 6.28, 5.4 , 6.85, 6.37, 5.91, 6.08, 5.46, 6.21,\n       6.15, 6.62, 6.32, 5.62, 1.84, 5.64, 5.83, 6.64, 5.6 , 5.2 , 5.93,\n       6.1 , 5.13, 5.47, 5.27, 5.27, 5.85, 5.17, 5.24, 4.93, 6.19, 6.51,\n       6.16, 6.05, 5.1 , 5.31, 5.43, 5.48, 6.13, 5.36, 4.99, 5.37, 6.31,\n       6.37, 5.24])"
     },
     "execution_count": 55,
     "metadata": {},
     "output_type": "execute_result"
    }
   ],
   "source": [
    "model_rf = RandomForestRegressor(random_state = 42).fit(pipeline3_clean['X_train'], pipeline3_clean['y_train'])\n",
    "y_pred_rf = model_rf.predict(pipeline3_clean['X_test'])\n",
    "y_pred_rf"
   ],
   "metadata": {
    "collapsed": false
   }
  },
  {
   "cell_type": "code",
   "execution_count": 56,
   "outputs": [],
   "source": [
    "rfc = RandomForestRegressor(random_state=42)\n",
    "\n",
    "n_estimators = [1600]\n",
    "max_features = ['auto', 'sqrt', 'log2']\n",
    "max_depth = [int(x) for x in np.linspace(10, 110, num = 11)]\n",
    "max_depth.append(None)\n",
    "min_samples_split = [2, 5, 10]\n",
    "min_samples_leaf = [1, 2, 4]\n",
    "bootstrap = [True, False]\n",
    "\n",
    "params_grid = {'n_estimators': n_estimators,\n",
    "               'max_features': max_features,\n",
    "               'max_depth': max_depth,\n",
    "               'min_samples_split': min_samples_split,\n",
    "               'min_samples_leaf': min_samples_leaf,\n",
    "               'bootstrap': bootstrap}"
   ],
   "metadata": {
    "collapsed": false
   }
  },
  {
   "cell_type": "code",
   "execution_count": 57,
   "outputs": [
    {
     "name": "stdout",
     "output_type": "stream",
     "text": [
      "Fitting 2 folds for each of 100 candidates, totalling 200 fits\n"
     ]
    },
    {
     "data": {
      "text/plain": "RandomizedSearchCV(cv=2, estimator=RandomForestRegressor(random_state=42),\n                   n_iter=100, n_jobs=-1,\n                   param_distributions={'bootstrap': [True, False],\n                                        'max_depth': [10, 20, 30, 40, 50, 60,\n                                                      70, 80, 90, 100, 110,\n                                                      None],\n                                        'max_features': ['auto', 'sqrt',\n                                                         'log2'],\n                                        'min_samples_leaf': [1, 2, 4],\n                                        'min_samples_split': [2, 5, 10],\n                                        'n_estimators': [1600]},\n                   random_state=42, verbose=1)"
     },
     "execution_count": 57,
     "metadata": {},
     "output_type": "execute_result"
    }
   ],
   "source": [
    "random_search = RandomizedSearchCV(estimator = rfc,  param_distributions = params_grid, verbose = 1, cv = 2, n_iter = 100, random_state = 42, n_jobs = -1)\n",
    "\n",
    "random_search.fit(pipeline3_clean['X_train'], pipeline3_clean['y_train'])"
   ],
   "metadata": {
    "collapsed": false
   }
  },
  {
   "cell_type": "code",
   "execution_count": 58,
   "outputs": [
    {
     "name": "stdout",
     "output_type": "stream",
     "text": [
      "best: {'n_estimators': 1600, 'min_samples_split': 2, 'min_samples_leaf': 1, 'max_features': 'auto', 'max_depth': 30, 'bootstrap': True}\n"
     ]
    }
   ],
   "source": [
    "write_to_log_file(f'best: {random_search.best_params_}')"
   ],
   "metadata": {
    "collapsed": false
   }
  },
  {
   "cell_type": "code",
   "execution_count": 59,
   "outputs": [],
   "source": [
    "rf_rs = RandomForestRegressor(**random_search.best_params_)\n",
    "# n_estimators = 1600, min_samples_split = 2, min_samples_leaf = 1, max_features = 'sqrt', max_depth = 80, bootstrap = False, random_state = 42\n",
    "\n",
    "model_rf_rs = rf_rs.fit(pipeline3_clean['X_train'].drop(columns=[ 'magnesium','flavanoids', 'minerals', 'calcium']), pipeline3_clean['y_train'].drop(columns=[ 'magnesium','flavanoids', 'minerals', 'calcium']))\n",
    "\n",
    "y_pred_rf_rs = model_rf_rs.predict(pipeline3_clean['X_test'].drop(columns=[ 'magnesium','flavanoids', 'minerals', 'calcium']))"
   ],
   "metadata": {
    "collapsed": false
   }
  },
  {
   "cell_type": "code",
   "execution_count": 60,
   "outputs": [
    {
     "name": "stdout",
     "output_type": "stream",
     "text": [
      "Score MAE for  RF:        0.4843\n",
      "Score MAPE for RF:        0.0906\n",
      "Score MSE for  RF:        0.4021\n",
      "Score RMSE for RF:        0.6341\n",
      "------------------------------------------------------------\n",
      "Score MAE for  Tuned RF:  0.4477\n",
      "Score MAPE for Tuned RF:  0.0840\n",
      "Score MSE for  Tuned RF:  0.3648\n",
      "Score RMSE for Tuned RF:  0.6040\n"
     ]
    }
   ],
   "source": [
    "y_test = pipeline3_clean['y_test']\n",
    "write_to_log_file('Score MAE for  RF:        {:.4f}' .format(mean_absolute_error(y_test, y_pred_rf)))\n",
    "write_to_log_file('Score MAPE for RF:        {:.4f}' .format(mean_absolute_percentage_error(y_test, y_pred_rf)))\n",
    "write_to_log_file('Score MSE for  RF:        {:.4f}' .format(mean_squared_error(y_test, y_pred_rf, squared = True)))\n",
    "write_to_log_file('Score RMSE for RF:        {:.4f}' .format(mean_squared_error(y_test, y_pred_rf, squared = False)))\n",
    "write_to_log_file(60*'-')\n",
    "write_to_log_file('Score MAE for  Tuned RF:  {:.4f}' .format(mean_absolute_error(y_test, y_pred_rf_rs)))\n",
    "write_to_log_file('Score MAPE for Tuned RF:  {:.4f}' .format(mean_absolute_percentage_error(y_test, y_pred_rf_rs)))\n",
    "write_to_log_file('Score MSE for  Tuned RF:  {:.4f}' .format(mean_squared_error(y_test, y_pred_rf_rs, squared = True)))\n",
    "write_to_log_file('Score RMSE for Tuned RF:  {:.4f}' .format(mean_squared_error(y_test, y_pred_rf_rs, squared = False)))"
   ],
   "metadata": {
    "collapsed": false
   }
  },
  {
   "cell_type": "code",
   "execution_count": 61,
   "outputs": [
    {
     "data": {
      "text/plain": "      Cabernet Sauvignon  Chardonnay  Gamay  Merlot  Pinot noir  real quality  \\\n1821                 0.0         0.0    0.0     0.0         1.0             7   \n3270                 0.0         0.0    0.0     0.0         1.0             7   \n165                  1.0         0.0    0.0     0.0         0.0             6   \n1333                 0.0         0.0    0.0     1.0         0.0             6   \n3759                 0.0         0.0    0.0     1.0         0.0             6   \n413                  0.0         1.0    0.0     0.0         0.0             5   \n3058                 1.0         0.0    0.0     0.0         0.0             5   \n630                  0.0         0.0    0.0     0.0         1.0             6   \n3228                 0.0         0.0    0.0     1.0         0.0             5   \n2148                 1.0         0.0    0.0     0.0         0.0             5   \n2818                 1.0         0.0    0.0     0.0         0.0             5   \n171                  0.0         1.0    0.0     0.0         0.0             6   \n3954                 1.0         0.0    0.0     0.0         0.0             6   \n2325                 1.0         0.0    0.0     0.0         0.0             8   \n2185                 0.0         0.0    0.0     0.0         1.0             5   \n\n      rf pred  tuned rf pred  \n1821     6.19       6.128125  \n3270     6.51       6.644375  \n165      6.16       6.110625  \n1333     6.05       6.065000  \n3759     5.10       5.093125  \n413      5.31       5.347500  \n3058     5.43       5.330000  \n630      5.48       5.578750  \n3228     6.13       6.005000  \n2148     5.36       5.246250  \n2818     4.99       5.076250  \n171      5.37       5.296250  \n3954     6.31       6.270000  \n2325     6.37       6.225625  \n2185     5.24       5.112517  ",
      "text/html": "<div>\n<style scoped>\n    .dataframe tbody tr th:only-of-type {\n        vertical-align: middle;\n    }\n\n    .dataframe tbody tr th {\n        vertical-align: top;\n    }\n\n    .dataframe thead th {\n        text-align: right;\n    }\n</style>\n<table border=\"1\" class=\"dataframe\">\n  <thead>\n    <tr style=\"text-align: right;\">\n      <th></th>\n      <th>Cabernet Sauvignon</th>\n      <th>Chardonnay</th>\n      <th>Gamay</th>\n      <th>Merlot</th>\n      <th>Pinot noir</th>\n      <th>real quality</th>\n      <th>rf pred</th>\n      <th>tuned rf pred</th>\n    </tr>\n  </thead>\n  <tbody>\n    <tr>\n      <th>1821</th>\n      <td>0.0</td>\n      <td>0.0</td>\n      <td>0.0</td>\n      <td>0.0</td>\n      <td>1.0</td>\n      <td>7</td>\n      <td>6.19</td>\n      <td>6.128125</td>\n    </tr>\n    <tr>\n      <th>3270</th>\n      <td>0.0</td>\n      <td>0.0</td>\n      <td>0.0</td>\n      <td>0.0</td>\n      <td>1.0</td>\n      <td>7</td>\n      <td>6.51</td>\n      <td>6.644375</td>\n    </tr>\n    <tr>\n      <th>165</th>\n      <td>1.0</td>\n      <td>0.0</td>\n      <td>0.0</td>\n      <td>0.0</td>\n      <td>0.0</td>\n      <td>6</td>\n      <td>6.16</td>\n      <td>6.110625</td>\n    </tr>\n    <tr>\n      <th>1333</th>\n      <td>0.0</td>\n      <td>0.0</td>\n      <td>0.0</td>\n      <td>1.0</td>\n      <td>0.0</td>\n      <td>6</td>\n      <td>6.05</td>\n      <td>6.065000</td>\n    </tr>\n    <tr>\n      <th>3759</th>\n      <td>0.0</td>\n      <td>0.0</td>\n      <td>0.0</td>\n      <td>1.0</td>\n      <td>0.0</td>\n      <td>6</td>\n      <td>5.10</td>\n      <td>5.093125</td>\n    </tr>\n    <tr>\n      <th>413</th>\n      <td>0.0</td>\n      <td>1.0</td>\n      <td>0.0</td>\n      <td>0.0</td>\n      <td>0.0</td>\n      <td>5</td>\n      <td>5.31</td>\n      <td>5.347500</td>\n    </tr>\n    <tr>\n      <th>3058</th>\n      <td>1.0</td>\n      <td>0.0</td>\n      <td>0.0</td>\n      <td>0.0</td>\n      <td>0.0</td>\n      <td>5</td>\n      <td>5.43</td>\n      <td>5.330000</td>\n    </tr>\n    <tr>\n      <th>630</th>\n      <td>0.0</td>\n      <td>0.0</td>\n      <td>0.0</td>\n      <td>0.0</td>\n      <td>1.0</td>\n      <td>6</td>\n      <td>5.48</td>\n      <td>5.578750</td>\n    </tr>\n    <tr>\n      <th>3228</th>\n      <td>0.0</td>\n      <td>0.0</td>\n      <td>0.0</td>\n      <td>1.0</td>\n      <td>0.0</td>\n      <td>5</td>\n      <td>6.13</td>\n      <td>6.005000</td>\n    </tr>\n    <tr>\n      <th>2148</th>\n      <td>1.0</td>\n      <td>0.0</td>\n      <td>0.0</td>\n      <td>0.0</td>\n      <td>0.0</td>\n      <td>5</td>\n      <td>5.36</td>\n      <td>5.246250</td>\n    </tr>\n    <tr>\n      <th>2818</th>\n      <td>1.0</td>\n      <td>0.0</td>\n      <td>0.0</td>\n      <td>0.0</td>\n      <td>0.0</td>\n      <td>5</td>\n      <td>4.99</td>\n      <td>5.076250</td>\n    </tr>\n    <tr>\n      <th>171</th>\n      <td>0.0</td>\n      <td>1.0</td>\n      <td>0.0</td>\n      <td>0.0</td>\n      <td>0.0</td>\n      <td>6</td>\n      <td>5.37</td>\n      <td>5.296250</td>\n    </tr>\n    <tr>\n      <th>3954</th>\n      <td>1.0</td>\n      <td>0.0</td>\n      <td>0.0</td>\n      <td>0.0</td>\n      <td>0.0</td>\n      <td>6</td>\n      <td>6.31</td>\n      <td>6.270000</td>\n    </tr>\n    <tr>\n      <th>2325</th>\n      <td>1.0</td>\n      <td>0.0</td>\n      <td>0.0</td>\n      <td>0.0</td>\n      <td>0.0</td>\n      <td>8</td>\n      <td>6.37</td>\n      <td>6.225625</td>\n    </tr>\n    <tr>\n      <th>2185</th>\n      <td>0.0</td>\n      <td>0.0</td>\n      <td>0.0</td>\n      <td>0.0</td>\n      <td>1.0</td>\n      <td>5</td>\n      <td>5.24</td>\n      <td>5.112517</td>\n    </tr>\n  </tbody>\n</table>\n</div>"
     },
     "execution_count": 61,
     "metadata": {},
     "output_type": "execute_result"
    }
   ],
   "source": [
    "df_display = pipeline3_clean['X_test'].copy()\n",
    "df_display = df_display.drop(['fixed_acidity', 'volatile_acidity', 'citric_acid', 'magnesium','flavanoids', 'minerals', 'calcium', 'residual_sugar', 'chlorides', 'free_sulfur_dioxide', 'total_sulfur_dioxide', 'density', 'pH', 'sulphates', 'alcohol'], axis= 1)\n",
    "df_display['real quality'] = y_test\n",
    "df_display['rf pred'] = y_pred_rf\n",
    "df_display['tuned rf pred'] = y_pred_rf_rs\n",
    "df_display.tail(15)"
   ],
   "metadata": {
    "collapsed": false
   }
  },
  {
   "cell_type": "markdown",
   "source": [
    "# Test No Gamay dataframe"
   ],
   "metadata": {
    "collapsed": false
   }
  },
  {
   "cell_type": "code",
   "execution_count": 62,
   "outputs": [
    {
     "data": {
      "text/plain": "array([6.03, 5.85, 6.71, 5.33, 6.77, 5.92, 5.79, 5.38, 5.16, 5.5 , 5.8 ,\n       5.31, 5.6 , 5.91, 6.71, 6.42, 5.34, 5.25, 6.4 , 6.  , 4.8 , 6.27,\n       6.  , 5.05, 5.76, 5.35, 6.41, 5.58, 5.32, 5.5 , 6.32, 5.54, 5.48,\n       5.84, 5.71, 6.  , 6.69, 5.22, 6.55, 6.25, 5.72, 6.81, 5.88, 6.59,\n       6.1 , 6.76, 6.58, 5.63, 5.33, 5.35, 5.97, 5.23, 5.89, 5.12, 6.23,\n       5.76, 5.34, 6.09, 5.27, 6.38, 4.93, 6.07, 6.62, 6.28, 6.23, 5.64,\n       5.71, 6.58, 5.89, 6.19, 6.  , 6.33, 5.89, 5.39, 4.94, 4.89, 5.28,\n       5.44, 5.48, 6.39, 5.72, 5.27, 5.39, 6.18, 5.83, 5.86, 5.65, 6.72,\n       5.74, 6.14, 6.99, 6.11, 6.51, 5.36, 5.45, 6.15, 5.32, 5.85, 6.15,\n       6.79, 5.63, 5.16, 6.55, 4.54, 5.34, 5.68, 6.27, 5.47, 6.57, 5.79,\n       5.71, 4.93, 5.32, 6.55, 6.11, 5.34, 6.4 , 5.36, 5.82, 6.  , 5.42,\n       5.93, 5.11, 6.16, 5.79, 6.67, 6.5 , 5.68, 5.65, 5.5 , 5.53, 6.74,\n       6.54, 7.02, 5.81, 5.86, 5.22, 5.17, 5.95, 5.43, 5.87, 6.07, 6.45,\n       5.79, 5.22, 5.32, 5.82, 6.48, 5.41, 6.01, 6.34, 5.26, 6.9 , 6.85,\n       6.43, 6.96, 5.29, 7.02, 6.76, 6.79, 5.47, 5.41, 5.55, 6.19, 5.15,\n       6.17, 5.53, 6.25, 6.19, 5.55, 6.19, 6.06, 6.09, 6.01, 6.37, 6.4 ,\n       5.68, 5.57, 5.32, 6.19, 6.28, 6.51, 6.66, 6.01, 5.54, 5.07, 6.33,\n       5.28, 6.36, 5.57, 6.72, 6.56, 7.  , 6.23, 5.84, 6.18, 5.91, 5.39,\n       6.45, 5.47, 5.04, 5.19, 6.  , 6.45, 5.28, 5.81, 6.16, 6.08, 6.51,\n       6.58, 6.32, 5.75, 6.39, 6.5 , 5.06, 5.53, 4.92, 5.72, 5.74, 5.24,\n       6.04, 7.02, 6.33, 5.54, 4.95, 5.68, 5.12, 5.26, 5.28, 5.19, 5.1 ,\n       5.98, 5.88, 5.36, 5.35, 6.61, 5.28, 5.46, 6.  , 5.94, 6.35, 5.81,\n       6.08, 6.21, 6.27, 6.07, 7.13, 6.57, 5.43, 5.67, 6.54, 5.32, 6.12,\n       5.68, 5.85, 4.46, 5.36, 6.53, 6.28, 5.82, 7.15, 5.81, 6.18, 5.23,\n       5.89, 5.28, 7.21, 5.38, 5.75, 5.56, 5.44, 6.33, 5.11, 6.34, 6.84,\n       5.48, 6.44, 6.04, 7.24, 5.83, 6.38, 5.68, 4.65, 6.77, 5.23, 6.19,\n       6.07, 5.56, 5.92, 4.76, 6.18, 6.13, 5.68, 5.98, 5.89, 5.57, 5.42,\n       6.99, 6.11, 7.45, 5.83, 5.46, 5.6 , 6.6 , 4.5 , 6.52, 6.74, 6.03,\n       5.37, 6.44, 5.3 , 5.5 , 5.79, 5.25, 5.26, 5.72, 6.18, 5.61, 4.96,\n       5.64, 5.53, 5.65, 5.68, 6.83, 6.99, 6.06, 4.86, 5.12, 5.94, 5.27,\n       6.03, 5.89, 5.43, 6.1 , 6.41, 5.22, 6.61, 5.16, 5.29, 6.58, 5.91,\n       5.37, 6.14, 5.68, 5.32, 6.59, 6.82, 5.98, 6.32, 5.69, 5.17, 5.11,\n       4.92, 6.88, 5.1 , 5.56, 5.75, 6.05, 6.67, 5.47, 5.58, 5.7 , 5.5 ,\n       5.35, 5.94, 5.62, 7.01, 5.46, 5.28, 5.16, 6.  , 5.79, 5.32, 5.91,\n       7.22, 5.21, 5.18, 7.12, 6.3 , 6.73, 6.48, 5.06, 6.37, 6.19, 5.8 ,\n       6.57, 4.77, 5.15, 5.76, 5.17, 6.63, 5.31, 5.08, 5.1 , 5.88, 5.48,\n       5.78, 5.25, 5.13, 5.86, 5.42, 6.81, 6.35, 5.32, 5.63, 4.89, 6.94,\n       5.26, 6.72, 4.8 , 6.36, 5.52, 6.3 , 6.46, 5.5 , 5.08, 6.34, 6.29,\n       5.25, 4.89, 6.49, 6.12, 5.92, 6.28, 5.34, 5.29, 6.08, 6.27, 5.96,\n       6.15, 6.91, 5.29, 4.71, 5.65, 5.3 , 5.85, 6.82, 6.76, 5.75, 6.67,\n       6.05, 5.26, 6.58, 6.96, 5.35, 5.28, 6.53, 5.58, 6.74, 6.58, 5.79,\n       5.35, 6.05, 6.58, 6.8 , 5.25, 5.67, 6.35, 5.92, 4.99, 5.41, 6.02,\n       6.55, 6.08, 6.65, 5.94, 5.71, 5.7 , 5.52, 6.89, 6.92, 5.46, 5.47,\n       5.07, 6.02, 5.87, 5.44, 6.66, 6.64, 5.13, 4.82, 6.44, 5.15, 4.91,\n       6.65, 5.16, 5.19, 6.63, 6.23, 5.8 , 6.3 , 6.07, 6.03, 6.32, 5.62,\n       6.13, 5.56, 5.85, 6.  , 7.01, 6.02, 5.84, 6.21, 6.52, 6.74, 6.02,\n       5.72, 5.44, 6.4 , 5.09, 5.14, 6.08, 5.18, 5.83, 6.58, 6.46, 6.62,\n       6.88, 6.44, 5.96, 6.27, 6.63, 6.66, 6.28, 5.8 , 5.74, 6.41, 5.65,\n       5.31, 5.9 , 6.41, 5.17, 5.22, 5.62, 5.98, 6.39, 5.8 , 5.16, 5.62,\n       6.1 , 5.55, 5.72, 5.52, 5.34, 5.39, 6.46, 5.9 , 6.67, 5.88, 5.91,\n       6.36, 6.2 , 5.48, 6.55, 6.34, 5.2 , 6.78, 5.92, 6.02, 6.68, 7.21,\n       6.93, 6.3 , 5.96, 5.9 , 6.73, 6.64, 6.18, 5.42, 5.7 , 6.35, 6.02,\n       6.43, 5.39, 5.07, 5.13, 6.04, 5.17, 5.97, 6.32, 6.65, 6.67, 5.12,\n       5.84, 5.89, 5.73, 6.09, 5.85, 5.54, 5.14, 5.54, 5.25, 5.78, 5.88,\n       6.4 , 5.36, 5.61, 6.24, 5.55, 5.48, 6.07, 5.26, 5.31, 5.72, 6.32,\n       5.45, 6.06, 6.99, 5.72, 6.28, 6.61, 6.59, 5.27, 5.76, 5.9 , 5.04,\n       6.64, 5.83, 5.81, 5.59, 6.12, 5.94, 5.07, 6.64, 5.5 , 5.64, 6.49,\n       6.02, 5.15, 5.73, 5.78, 5.49, 5.31, 5.51, 6.93, 6.62, 5.62, 5.98,\n       4.56, 5.84, 6.64, 6.43, 5.59, 6.07, 5.98, 5.18, 5.67, 5.93, 6.08,\n       5.62, 5.1 , 5.46, 5.93, 5.15, 5.1 , 5.41, 6.44, 5.86, 6.71, 5.18,\n       5.02, 5.12, 5.67, 6.01, 6.49, 4.74, 5.65, 5.1 , 5.92, 5.72, 5.27,\n       5.24, 6.24, 6.25, 5.11, 6.43, 6.99, 6.15, 5.91, 5.55, 5.28, 6.49,\n       4.84, 6.05, 6.51, 5.93, 6.65, 4.97, 5.91, 6.61, 4.95, 5.21, 6.34,\n       6.87, 6.52, 5.74, 5.3 , 5.4 , 6.  , 5.85, 6.  , 5.53, 5.23, 6.63,\n       5.97, 5.56, 6.32, 5.6 , 4.95, 5.44, 4.76, 6.21, 6.85, 6.74, 4.99,\n       5.84, 5.52, 5.46, 6.53, 5.48, 6.53, 5.93, 6.38, 6.26, 6.46, 6.17,\n       6.35, 5.91, 6.31, 4.91, 5.23, 5.93, 5.61, 6.42, 5.29, 5.02, 4.94,\n       7.04, 4.49, 5.48, 6.98, 5.16, 5.34, 5.35, 5.16, 5.84, 5.97, 7.02,\n       5.96, 5.79, 6.02, 6.98, 4.79, 6.94, 6.92, 5.46, 5.69, 5.48, 5.5 ,\n       5.72])"
     },
     "execution_count": 62,
     "metadata": {},
     "output_type": "execute_result"
    }
   ],
   "source": [
    "model_rf_ngm = RandomForestRegressor(random_state = 42).fit(pipeline3_no_gamay['X_train'], pipeline3_no_gamay['y_train'])\n",
    "y_pred_rf_ngm = model_rf_ngm.predict(pipeline3_no_gamay['X_test'])\n",
    "y_pred_rf_ngm"
   ],
   "metadata": {
    "collapsed": false
   }
  },
  {
   "cell_type": "code",
   "execution_count": 63,
   "outputs": [],
   "source": [
    "rfc = RandomForestRegressor(random_state=42)\n",
    "\n",
    "n_estimators = [1400, 1600, 1800]\n",
    "max_features = ['auto', 'sqrt', 'log2']\n",
    "max_depth = [int(x) for x in np.linspace(10, 110, num = 11)]\n",
    "max_depth.append(None)\n",
    "min_samples_split = [2, 5, 10]\n",
    "min_samples_leaf = [1, 2, 4]\n",
    "bootstrap = [True, False]\n",
    "\n",
    "params_grid = {'n_estimators': n_estimators,\n",
    "               'max_features': max_features,\n",
    "               'max_depth': max_depth,\n",
    "               'min_samples_split': min_samples_split,\n",
    "               'min_samples_leaf': min_samples_leaf,\n",
    "               'bootstrap': bootstrap}"
   ],
   "metadata": {
    "collapsed": false
   }
  },
  {
   "cell_type": "code",
   "execution_count": 64,
   "outputs": [
    {
     "name": "stdout",
     "output_type": "stream",
     "text": [
      "Fitting 5 folds for each of 100 candidates, totalling 500 fits\n"
     ]
    },
    {
     "data": {
      "text/plain": "RandomizedSearchCV(cv=5, estimator=RandomForestRegressor(random_state=42),\n                   n_iter=100, n_jobs=-1,\n                   param_distributions={'bootstrap': [True, False],\n                                        'max_depth': [10, 20, 30, 40, 50, 60,\n                                                      70, 80, 90, 100, 110,\n                                                      None],\n                                        'max_features': ['auto', 'sqrt',\n                                                         'log2'],\n                                        'min_samples_leaf': [1, 2, 4],\n                                        'min_samples_split': [2, 5, 10],\n                                        'n_estimators': [1400, 1600, 1800]},\n                   random_state=42, verbose=1)"
     },
     "execution_count": 64,
     "metadata": {},
     "output_type": "execute_result"
    }
   ],
   "source": [
    "random_search = RandomizedSearchCV(estimator = rfc,  param_distributions = params_grid, verbose = 1, cv = 5, n_iter = 100, random_state = 42, n_jobs = -1)\n",
    "\n",
    "random_search.fit(pipeline3_no_gamay['X_train'], pipeline3_no_gamay['y_train'])"
   ],
   "metadata": {
    "collapsed": false
   }
  },
  {
   "cell_type": "markdown",
   "source": [
    "# Final model No Gamay\n",
    "\n",
    "Dropping 'magnesium', 'flavanoids', 'minerals', 'calcium' to further improve model based on Task 1 Data Exploration"
   ],
   "metadata": {
    "collapsed": false
   }
  },
  {
   "cell_type": "code",
   "execution_count": 65,
   "outputs": [
    {
     "name": "stdout",
     "output_type": "stream",
     "text": [
      "best: {'n_estimators': 1400, 'min_samples_split': 2, 'min_samples_leaf': 1, 'max_features': 'log2', 'max_depth': 70, 'bootstrap': False}\n"
     ]
    }
   ],
   "source": [
    "write_to_log_file(f'best: {random_search.best_params_}')"
   ],
   "metadata": {
    "collapsed": false
   }
  },
  {
   "cell_type": "code",
   "execution_count": 66,
   "outputs": [],
   "source": [
    "rf_rs = RandomForestRegressor(**random_search.best_params_)\n",
    "# n_estimators = 1600, min_samples_split = 2, min_samples_leaf = 1, max_features = 'sqrt', max_depth = 80, bootstrap = False, random_state = 42\n",
    "\n",
    "model_rf_rs = rf_rs.fit(pipeline3_no_gamay['X_train'].drop(columns=[ 'magnesium','flavanoids', 'minerals', 'calcium']), pipeline3_no_gamay['y_train'].drop(columns=[ 'magnesium','flavanoids', 'minerals', 'calcium']))\n",
    "\n",
    "# save model\n",
    "filename_ng = 'finalized_model_no_gamay.sav'\n",
    "joblib.dump(model, filename_ng)\n",
    "\n",
    "y_pred_rf_ngm_rs = model_rf_rs.predict(pipeline3_no_gamay['X_test'].drop(columns=[ 'magnesium','flavanoids', 'minerals', 'calcium']))"
   ],
   "metadata": {
    "collapsed": false
   }
  },
  {
   "cell_type": "code",
   "execution_count": 67,
   "outputs": [
    {
     "name": "stdout",
     "output_type": "stream",
     "text": [
      "Score MAE for  RF:        0.4742\n",
      "Score MAPE for RF:        0.0836\n",
      "Score MSE for  RF:        0.3780\n",
      "Score RMSE for RF:        0.6148\n",
      "------------------------------------------------------------\n",
      "Score MAE for  Tuned RF:  0.3964\n",
      "Score MAPE for Tuned RF:  0.0701\n",
      "Score MSE for  Tuned RF:  0.3155\n",
      "Score RMSE for Tuned RF:  0.5617\n"
     ]
    }
   ],
   "source": [
    "y_test = pipeline3_no_gamay['y_test']\n",
    "write_to_log_file('Score MAE for  RF:        {:.4f}' .format(mean_absolute_error(y_test, y_pred_rf_ngm)))\n",
    "write_to_log_file('Score MAPE for RF:        {:.4f}' .format(mean_absolute_percentage_error(y_test, y_pred_rf_ngm)))\n",
    "write_to_log_file('Score MSE for  RF:        {:.4f}' .format(mean_squared_error(y_test, y_pred_rf_ngm, squared = True)))\n",
    "write_to_log_file('Score RMSE for RF:        {:.4f}' .format(mean_squared_error(y_test, y_pred_rf_ngm, squared = False)))\n",
    "write_to_log_file(60*'-')\n",
    "write_to_log_file('Score MAE for  Tuned RF:  {:.4f}' .format(mean_absolute_error(y_test, y_pred_rf_ngm_rs)))\n",
    "write_to_log_file('Score MAPE for Tuned RF:  {:.4f}' .format(mean_absolute_percentage_error(y_test, y_pred_rf_ngm_rs)))\n",
    "write_to_log_file('Score MSE for  Tuned RF:  {:.4f}' .format(mean_squared_error(y_test, y_pred_rf_ngm_rs, squared = True)))\n",
    "write_to_log_file('Score RMSE for Tuned RF:  {:.4f}' .format(mean_squared_error(y_test, y_pred_rf_ngm_rs, squared = False)))"
   ],
   "metadata": {
    "collapsed": false
   }
  },
  {
   "cell_type": "code",
   "execution_count": 68,
   "outputs": [
    {
     "data": {
      "text/plain": "      Cabernet Sauvignon  Chardonnay  Merlot  Pinot noir  real quality  \\\n3004                 1.0         0.0     0.0         0.0             5   \n3158                 0.0         0.0     0.0         1.0             5   \n2573                 0.0         0.0     0.0         1.0             7   \n33                   0.0         0.0     0.0         1.0             5   \n861                  0.0         0.0     0.0         1.0             6   \n2849                 0.0         1.0     0.0         0.0             6   \n1740                 0.0         0.0     0.0         1.0             7   \n609                  0.0         0.0     0.0         1.0             4   \n3117                 0.0         1.0     0.0         0.0             7   \n3824                 1.0         0.0     0.0         0.0             7   \n2216                 1.0         0.0     0.0         0.0             6   \n631                  0.0         0.0     0.0         1.0             5   \n1127                 0.0         1.0     0.0         0.0             6   \n1983                 0.0         0.0     1.0         0.0             7   \n1338                 0.0         0.0     1.0         0.0             6   \n\n      rf pred  tuned rf pred  \n3004     5.84       5.947143  \n3158     5.97       6.054286  \n2573     7.02       6.984286  \n33       5.96       5.881429  \n861      5.79       5.645714  \n2849     6.02       5.847143  \n1740     6.98       6.954286  \n609      4.79       4.297857  \n3117     6.94       6.715000  \n3824     6.92       7.011429  \n2216     5.46       5.897857  \n631      5.69       5.552857  \n1127     5.48       5.519286  \n1983     5.50       5.369286  \n1338     5.72       5.840714  ",
      "text/html": "<div>\n<style scoped>\n    .dataframe tbody tr th:only-of-type {\n        vertical-align: middle;\n    }\n\n    .dataframe tbody tr th {\n        vertical-align: top;\n    }\n\n    .dataframe thead th {\n        text-align: right;\n    }\n</style>\n<table border=\"1\" class=\"dataframe\">\n  <thead>\n    <tr style=\"text-align: right;\">\n      <th></th>\n      <th>Cabernet Sauvignon</th>\n      <th>Chardonnay</th>\n      <th>Merlot</th>\n      <th>Pinot noir</th>\n      <th>real quality</th>\n      <th>rf pred</th>\n      <th>tuned rf pred</th>\n    </tr>\n  </thead>\n  <tbody>\n    <tr>\n      <th>3004</th>\n      <td>1.0</td>\n      <td>0.0</td>\n      <td>0.0</td>\n      <td>0.0</td>\n      <td>5</td>\n      <td>5.84</td>\n      <td>5.947143</td>\n    </tr>\n    <tr>\n      <th>3158</th>\n      <td>0.0</td>\n      <td>0.0</td>\n      <td>0.0</td>\n      <td>1.0</td>\n      <td>5</td>\n      <td>5.97</td>\n      <td>6.054286</td>\n    </tr>\n    <tr>\n      <th>2573</th>\n      <td>0.0</td>\n      <td>0.0</td>\n      <td>0.0</td>\n      <td>1.0</td>\n      <td>7</td>\n      <td>7.02</td>\n      <td>6.984286</td>\n    </tr>\n    <tr>\n      <th>33</th>\n      <td>0.0</td>\n      <td>0.0</td>\n      <td>0.0</td>\n      <td>1.0</td>\n      <td>5</td>\n      <td>5.96</td>\n      <td>5.881429</td>\n    </tr>\n    <tr>\n      <th>861</th>\n      <td>0.0</td>\n      <td>0.0</td>\n      <td>0.0</td>\n      <td>1.0</td>\n      <td>6</td>\n      <td>5.79</td>\n      <td>5.645714</td>\n    </tr>\n    <tr>\n      <th>2849</th>\n      <td>0.0</td>\n      <td>1.0</td>\n      <td>0.0</td>\n      <td>0.0</td>\n      <td>6</td>\n      <td>6.02</td>\n      <td>5.847143</td>\n    </tr>\n    <tr>\n      <th>1740</th>\n      <td>0.0</td>\n      <td>0.0</td>\n      <td>0.0</td>\n      <td>1.0</td>\n      <td>7</td>\n      <td>6.98</td>\n      <td>6.954286</td>\n    </tr>\n    <tr>\n      <th>609</th>\n      <td>0.0</td>\n      <td>0.0</td>\n      <td>0.0</td>\n      <td>1.0</td>\n      <td>4</td>\n      <td>4.79</td>\n      <td>4.297857</td>\n    </tr>\n    <tr>\n      <th>3117</th>\n      <td>0.0</td>\n      <td>1.0</td>\n      <td>0.0</td>\n      <td>0.0</td>\n      <td>7</td>\n      <td>6.94</td>\n      <td>6.715000</td>\n    </tr>\n    <tr>\n      <th>3824</th>\n      <td>1.0</td>\n      <td>0.0</td>\n      <td>0.0</td>\n      <td>0.0</td>\n      <td>7</td>\n      <td>6.92</td>\n      <td>7.011429</td>\n    </tr>\n    <tr>\n      <th>2216</th>\n      <td>1.0</td>\n      <td>0.0</td>\n      <td>0.0</td>\n      <td>0.0</td>\n      <td>6</td>\n      <td>5.46</td>\n      <td>5.897857</td>\n    </tr>\n    <tr>\n      <th>631</th>\n      <td>0.0</td>\n      <td>0.0</td>\n      <td>0.0</td>\n      <td>1.0</td>\n      <td>5</td>\n      <td>5.69</td>\n      <td>5.552857</td>\n    </tr>\n    <tr>\n      <th>1127</th>\n      <td>0.0</td>\n      <td>1.0</td>\n      <td>0.0</td>\n      <td>0.0</td>\n      <td>6</td>\n      <td>5.48</td>\n      <td>5.519286</td>\n    </tr>\n    <tr>\n      <th>1983</th>\n      <td>0.0</td>\n      <td>0.0</td>\n      <td>1.0</td>\n      <td>0.0</td>\n      <td>7</td>\n      <td>5.50</td>\n      <td>5.369286</td>\n    </tr>\n    <tr>\n      <th>1338</th>\n      <td>0.0</td>\n      <td>0.0</td>\n      <td>1.0</td>\n      <td>0.0</td>\n      <td>6</td>\n      <td>5.72</td>\n      <td>5.840714</td>\n    </tr>\n  </tbody>\n</table>\n</div>"
     },
     "execution_count": 68,
     "metadata": {},
     "output_type": "execute_result"
    }
   ],
   "source": [
    "df_display = pipeline3_no_gamay['X_test'].copy()\n",
    "df_display = df_display.drop(['fixed_acidity', 'volatile_acidity', 'citric_acid', 'magnesium','flavanoids', 'minerals', 'calcium', 'residual_sugar', 'chlorides', 'free_sulfur_dioxide', 'total_sulfur_dioxide', 'density', 'pH', 'sulphates', 'alcohol'], axis= 1)\n",
    "df_display['real quality'] = y_test\n",
    "df_display['rf pred'] = y_pred_rf_ngm\n",
    "df_display['tuned rf pred'] = y_pred_rf_ngm_rs\n",
    "df_display.tail(15)"
   ],
   "metadata": {
    "collapsed": false
   }
  },
  {
   "cell_type": "markdown",
   "source": [
    "# Gamay\n",
    "\n"
   ],
   "metadata": {
    "collapsed": false
   }
  },
  {
   "cell_type": "code",
   "execution_count": 69,
   "outputs": [
    {
     "data": {
      "text/plain": "array([1.91, 1.67, 1.99, 1.92, 1.37, 1.94, 1.42, 1.91, 1.89, 1.96, 1.88,\n       1.71, 2.  , 1.32, 1.58, 1.66, 1.8 , 1.66, 1.62, 1.73, 1.66, 1.7 ,\n       1.54])"
     },
     "execution_count": 69,
     "metadata": {},
     "output_type": "execute_result"
    }
   ],
   "source": [
    "model_rf_gm = RandomForestRegressor(random_state = 42).fit(pipeline3_gamay['X_train'], pipeline3_gamay['y_train'])\n",
    "y_pred_rf_gm = model_rf_gm.predict(pipeline3_gamay['X_test'])\n",
    "y_pred_rf_gm"
   ],
   "metadata": {
    "collapsed": false
   }
  },
  {
   "cell_type": "code",
   "execution_count": 70,
   "outputs": [],
   "source": [
    "rfc = RandomForestRegressor(random_state=42)\n",
    "\n",
    "n_estimators = [1400, 1600, 1800]\n",
    "max_features = ['auto', 'sqrt', 'log2']\n",
    "max_depth = [int(x) for x in np.linspace(10, 110, num = 11)]\n",
    "max_depth.append(None)\n",
    "min_samples_split = [2, 5, 10]\n",
    "min_samples_leaf = [1, 2, 4]\n",
    "bootstrap = [True, False]\n",
    "\n",
    "params_grid = {'n_estimators': n_estimators,\n",
    "               'max_features': max_features,\n",
    "               'max_depth': max_depth,\n",
    "               'min_samples_split': min_samples_split,\n",
    "               'min_samples_leaf': min_samples_leaf,\n",
    "               'bootstrap': bootstrap}"
   ],
   "metadata": {
    "collapsed": false
   }
  },
  {
   "cell_type": "code",
   "execution_count": 71,
   "outputs": [
    {
     "name": "stdout",
     "output_type": "stream",
     "text": [
      "Fitting 5 folds for each of 100 candidates, totalling 500 fits\n"
     ]
    },
    {
     "data": {
      "text/plain": "RandomizedSearchCV(cv=5, estimator=RandomForestRegressor(random_state=42),\n                   n_iter=100, n_jobs=-1,\n                   param_distributions={'bootstrap': [True, False],\n                                        'max_depth': [10, 20, 30, 40, 50, 60,\n                                                      70, 80, 90, 100, 110,\n                                                      None],\n                                        'max_features': ['auto', 'sqrt',\n                                                         'log2'],\n                                        'min_samples_leaf': [1, 2, 4],\n                                        'min_samples_split': [2, 5, 10],\n                                        'n_estimators': [1400, 1600, 1800]},\n                   random_state=42, verbose=1)"
     },
     "execution_count": 71,
     "metadata": {},
     "output_type": "execute_result"
    }
   ],
   "source": [
    "random_search_gamay = RandomizedSearchCV(estimator = rfc,  param_distributions = params_grid, verbose = 1, cv = 5, n_iter = 100, random_state = 42, n_jobs = -1)\n",
    "\n",
    "random_search_gamay.fit(pipeline3_gamay['X_train'], pipeline3_gamay['y_train'])"
   ],
   "metadata": {
    "collapsed": false
   }
  },
  {
   "cell_type": "markdown",
   "source": [
    "# Final Gamay model\n",
    "\n",
    "Dropping 'magnesium', 'flavanoids', 'minerals', 'calcium' to further improve model based on Task 1 Data Exploration"
   ],
   "metadata": {
    "collapsed": false
   }
  },
  {
   "cell_type": "code",
   "execution_count": 72,
   "outputs": [
    {
     "name": "stdout",
     "output_type": "stream",
     "text": [
      "best: {'n_estimators': 1800, 'min_samples_split': 2, 'min_samples_leaf': 1, 'max_features': 'log2', 'max_depth': 10, 'bootstrap': True}\n"
     ]
    }
   ],
   "source": [
    "write_to_log_file(f'best: {random_search_gamay.best_params_}')"
   ],
   "metadata": {
    "collapsed": false
   }
  },
  {
   "cell_type": "code",
   "execution_count": 73,
   "outputs": [],
   "source": [
    "rf_rs_gamay = RandomForestRegressor(**random_search_gamay.best_params_)\n",
    "# n_estimators = 1600, min_samples_split = 2, min_samples_leaf = 1, max_features = 'sqrt', max_depth = 80, bootstrap = False, random_state = 42\n",
    "\n",
    "model_rf_rs_gm = rf_rs_gamay.fit(pipeline3_gamay['X_train'].drop(columns=[ 'magnesium','flavanoids', 'minerals', 'calcium']), pipeline3_gamay['y_train'].drop(columns=[ 'magnesium','flavanoids', 'minerals', 'calcium']))\n",
    "\n",
    "# save model\n",
    "filename_g = 'finalized_model_gamay.sav'\n",
    "joblib.dump(model, filename_g)\n",
    "\n",
    "y_pred_rf_gm_rs = model_rf_rs_gm.predict(pipeline3_gamay['X_test'].drop(columns=[ 'magnesium','flavanoids', 'minerals', 'calcium']))"
   ],
   "metadata": {
    "collapsed": false
   }
  },
  {
   "cell_type": "code",
   "execution_count": 74,
   "outputs": [
    {
     "name": "stdout",
     "output_type": "stream",
     "text": [
      "Score MAE for  RF:        0.3643\n",
      "Score MAPE for RF:        0.2824\n",
      "Score MSE for  RF:        0.2063\n",
      "Score RMSE for RF:        0.4542\n",
      "------------------------------------------------------------\n",
      "Score MAE for  Tuned RF:  0.3894\n",
      "Score MAPE for Tuned RF:  0.2993\n",
      "Score MSE for  Tuned RF:  0.2115\n",
      "Score RMSE for Tuned RF:  0.4599\n"
     ]
    }
   ],
   "source": [
    "y_test = pipeline3_gamay['y_test']\n",
    "write_to_log_file('Score MAE for  RF:        {:.4f}' .format(mean_absolute_error(y_test, y_pred_rf_gm)))\n",
    "write_to_log_file('Score MAPE for RF:        {:.4f}' .format(mean_absolute_percentage_error(y_test, y_pred_rf_gm)))\n",
    "write_to_log_file('Score MSE for  RF:        {:.4f}' .format(mean_squared_error(y_test, y_pred_rf_gm, squared = True)))\n",
    "write_to_log_file('Score RMSE for RF:        {:.4f}' .format(mean_squared_error(y_test, y_pred_rf_gm, squared = False)))\n",
    "write_to_log_file(60*'-')\n",
    "write_to_log_file('Score MAE for  Tuned RF:  {:.4f}' .format(mean_absolute_error(y_test, y_pred_rf_gm_rs)))\n",
    "write_to_log_file('Score MAPE for Tuned RF:  {:.4f}' .format(mean_absolute_percentage_error(y_test, y_pred_rf_gm_rs)))\n",
    "write_to_log_file('Score MSE for  Tuned RF:  {:.4f}' .format(mean_squared_error(y_test, y_pred_rf_gm_rs, squared = True)))\n",
    "write_to_log_file('Score RMSE for Tuned RF:  {:.4f}' .format(mean_squared_error(y_test, y_pred_rf_gm_rs, squared = False)))"
   ],
   "metadata": {
    "collapsed": false
   }
  },
  {
   "cell_type": "code",
   "execution_count": 75,
   "outputs": [
    {
     "data": {
      "text/plain": "      real quality  rf pred  tuned rf pred\n1236             2     1.89       1.952778\n3478             2     1.96       1.805185\n1829             2     1.88       1.774444\n446              2     1.71       1.691932\n1906             2     2.00       1.909921\n1819             2     1.32       1.495300\n2559             1     1.58       1.578704\n3594             2     1.66       1.602222\n108              1     1.80       1.761810\n1192             1     1.66       1.816667\n2534             2     1.62       1.556111\n436              2     1.73       1.581319\n1797             2     1.66       1.766667\n1272             1     1.70       1.713426\n2430             1     1.54       1.484444",
      "text/html": "<div>\n<style scoped>\n    .dataframe tbody tr th:only-of-type {\n        vertical-align: middle;\n    }\n\n    .dataframe tbody tr th {\n        vertical-align: top;\n    }\n\n    .dataframe thead th {\n        text-align: right;\n    }\n</style>\n<table border=\"1\" class=\"dataframe\">\n  <thead>\n    <tr style=\"text-align: right;\">\n      <th></th>\n      <th>real quality</th>\n      <th>rf pred</th>\n      <th>tuned rf pred</th>\n    </tr>\n  </thead>\n  <tbody>\n    <tr>\n      <th>1236</th>\n      <td>2</td>\n      <td>1.89</td>\n      <td>1.952778</td>\n    </tr>\n    <tr>\n      <th>3478</th>\n      <td>2</td>\n      <td>1.96</td>\n      <td>1.805185</td>\n    </tr>\n    <tr>\n      <th>1829</th>\n      <td>2</td>\n      <td>1.88</td>\n      <td>1.774444</td>\n    </tr>\n    <tr>\n      <th>446</th>\n      <td>2</td>\n      <td>1.71</td>\n      <td>1.691932</td>\n    </tr>\n    <tr>\n      <th>1906</th>\n      <td>2</td>\n      <td>2.00</td>\n      <td>1.909921</td>\n    </tr>\n    <tr>\n      <th>1819</th>\n      <td>2</td>\n      <td>1.32</td>\n      <td>1.495300</td>\n    </tr>\n    <tr>\n      <th>2559</th>\n      <td>1</td>\n      <td>1.58</td>\n      <td>1.578704</td>\n    </tr>\n    <tr>\n      <th>3594</th>\n      <td>2</td>\n      <td>1.66</td>\n      <td>1.602222</td>\n    </tr>\n    <tr>\n      <th>108</th>\n      <td>1</td>\n      <td>1.80</td>\n      <td>1.761810</td>\n    </tr>\n    <tr>\n      <th>1192</th>\n      <td>1</td>\n      <td>1.66</td>\n      <td>1.816667</td>\n    </tr>\n    <tr>\n      <th>2534</th>\n      <td>2</td>\n      <td>1.62</td>\n      <td>1.556111</td>\n    </tr>\n    <tr>\n      <th>436</th>\n      <td>2</td>\n      <td>1.73</td>\n      <td>1.581319</td>\n    </tr>\n    <tr>\n      <th>1797</th>\n      <td>2</td>\n      <td>1.66</td>\n      <td>1.766667</td>\n    </tr>\n    <tr>\n      <th>1272</th>\n      <td>1</td>\n      <td>1.70</td>\n      <td>1.713426</td>\n    </tr>\n    <tr>\n      <th>2430</th>\n      <td>1</td>\n      <td>1.54</td>\n      <td>1.484444</td>\n    </tr>\n  </tbody>\n</table>\n</div>"
     },
     "execution_count": 75,
     "metadata": {},
     "output_type": "execute_result"
    }
   ],
   "source": [
    "df_display_gamay = pipeline3_gamay['X_test'].copy()\n",
    "df_display_gamay = df_display_gamay.drop(['fixed_acidity', 'volatile_acidity', 'citric_acid', 'magnesium','flavanoids', 'minerals', 'calcium', 'residual_sugar', 'chlorides', 'free_sulfur_dioxide', 'total_sulfur_dioxide', 'density', 'pH', 'sulphates', 'alcohol'], axis= 1)\n",
    "df_display_gamay['real quality'] = y_test\n",
    "df_display_gamay['rf pred'] = y_pred_rf_gm\n",
    "df_display_gamay['tuned rf pred'] = y_pred_rf_gm_rs\n",
    "df_display_gamay.tail(15)"
   ],
   "metadata": {
    "collapsed": false
   }
  },
  {
   "cell_type": "markdown",
   "source": [
    "# Conclusion\n",
    "\n",
    "Our final models are saved in\n",
    "- 'finalized_model_gamay.sav': Score MSE for RandomforestRegressor:  0.2115\n",
    "- 'finalized_model_no_gamay.sav': Score MSE for RandomforestRegressor:  0.3155\n",
    "\n",
    "In comparison to our baseline model: MSE between roundabout 122 and 264"
   ],
   "metadata": {
    "collapsed": false
   }
  }
 ],
 "metadata": {
  "kernelspec": {
   "display_name": "Python 3",
   "language": "python",
   "name": "python3"
  },
  "language_info": {
   "codemirror_mode": {
    "name": "ipython",
    "version": 2
   },
   "file_extension": ".py",
   "mimetype": "text/x-python",
   "name": "python",
   "nbconvert_exporter": "python",
   "pygments_lexer": "ipython2",
   "version": "2.7.6"
  }
 },
 "nbformat": 4,
 "nbformat_minor": 0
}
